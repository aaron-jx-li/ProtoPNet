{
 "cells": [
  {
   "cell_type": "code",
   "execution_count": 1,
   "id": "313c804d-a1d0-4ba1-b2dc-6eca2e5b3e82",
   "metadata": {
    "tags": []
   },
   "outputs": [],
   "source": [
    "import os\n",
    "import shutil\n",
    "from collections import Counter\n",
    "import numpy as np\n",
    "import torch\n",
    "import torch.utils.data\n",
    "import pandas as pd\n",
    "import argparse\n",
    "import re\n",
    "from helpers import makedir\n",
    "import model\n",
    "import save\n",
    "from log import create_logger\n",
    "import train_and_test as tnt\n",
    "from helpers import makedir\n",
    "import find_nearest\n",
    "import torchvision.transforms as transforms\n",
    "import torchvision.datasets as datasets\n",
    "import push\n",
    "\n",
    "from preprocess import mean, std, preprocess_input_function\n",
    "from settings import train_dir, test_dir, train_push_dir\n",
    "from settings import img_size, num_classes, prototype_activation_function, add_on_layers_type\n",
    "\n",
    "from bounding_box_metrics import bounding_box_overlap\n",
    "from find_nearest import find_k_nearest_patches_to_prototypes\n",
    "from settings import coefs\n",
    "\n"
   ]
  },
  {
   "cell_type": "code",
   "execution_count": 8,
   "id": "d7a9163e-50d4-42ff-8bd5-87a96e956910",
   "metadata": {
    "tags": []
   },
   "outputs": [],
   "source": [
    "'''\n",
    "Model initialization for vgg base; do not run this block when creating other models \n",
    "'''\n",
    "\n",
    "base_architecture = 'vgg19'\n",
    "prototype_shape = (2000, 128, 1, 1)\n",
    "\n",
    "ppnet = model.construct_PPNet(base_architecture=base_architecture,\n",
    "                              pretrained=True, img_size=img_size,\n",
    "                              prototype_shape=prototype_shape,\n",
    "                              num_classes=num_classes,\n",
    "                              prototype_activation_function=prototype_activation_function,\n",
    "                              add_on_layers_type=add_on_layers_type)\n",
    "\n",
    "ppnet = ppnet.cuda()\n",
    "ppnet_multi = torch.nn.DataParallel(ppnet)\n",
    "ppnet_multi = torch.nn.DataParallel(ppnet).cuda()\n",
    "class_specific = True\n",
    "\n",
    "warm_optimizer_lrs = {'add_on_layers': 1e-3,\n",
    "                      'prototype_vectors': 1e-3}\n",
    "warm_optimizer_specs = \\\n",
    "    [{'params': ppnet.add_on_layers.parameters(), 'lr': warm_optimizer_lrs['add_on_layers'], 'weight_decay': 1e-3},\n",
    "     {'params': ppnet.prototype_vectors, 'lr': warm_optimizer_lrs['prototype_vectors']},\n",
    "    ]\n",
    "warm_optimizer = torch.optim.Adam(warm_optimizer_specs)\n",
    "\n",
    "joint_optimizer_lrs = {'features': 1e-4,\n",
    "                       'add_on_layers': 1e-3,\n",
    "                       'prototype_vectors': 1e-3}\n",
    "joint_optimizer_specs = \\\n",
    "[{'params': ppnet_multi.module.features.parameters(), 'lr': joint_optimizer_lrs['features'], 'weight_decay': 1e-3}, # bias are now also being regularized\n",
    " {'params': ppnet_multi.module.add_on_layers.parameters(), 'lr': joint_optimizer_lrs['add_on_layers'], 'weight_decay': 1e-3},\n",
    " {'params': ppnet_multi.module.prototype_vectors, 'lr': joint_optimizer_lrs['prototype_vectors']},\n",
    "]\n",
    "joint_optimizer = torch.optim.Adam(joint_optimizer_specs)\n",
    "\n",
    "joint_lr_step_size = 5\n",
    "gamma = 0.5\n",
    "joint_lr_scheduler = torch.optim.lr_scheduler.StepLR(joint_optimizer, step_size=joint_lr_step_size, gamma=0.5)\n",
    "\n",
    "last_layer_optimizer_lr = 1e-4\n",
    "last_layer_optimizer_specs = [{'params': ppnet.last_layer.parameters(), 'lr': last_layer_optimizer_lr}]\n",
    "last_layer_optimizer = torch.optim.Adam(last_layer_optimizer_specs)\n",
    "\n",
    "train_batch_size, test_batch_size, train_push_batch_size = 128, 128, 128\n",
    "push_epochs = [20, 40, 60, 99]\n",
    "push_saved_epochs = [20, 40, 60, 99]\n",
    "\n",
    "model_dir = './ppnet_results/007_vgg19/'\n",
    "makedir(model_dir)\n",
    "log, logclose = create_logger(log_filename=os.path.join(model_dir, 'train.log'))"
   ]
  },
  {
   "cell_type": "code",
   "execution_count": 4,
   "id": "19960ba1-396d-4a93-8a73-00f3e2a30091",
   "metadata": {
    "tags": []
   },
   "outputs": [],
   "source": [
    "'''\n",
    "Model initialization for resnet base; do not run this block when creating other models \n",
    "'''\n",
    "\n",
    "base_architecture = 'resnet34'\n",
    "prototype_shape = (2000, 128, 1, 1)\n",
    "\n",
    "ppnet = model.construct_PPNet(base_architecture=base_architecture,\n",
    "                              pretrained=True, img_size=img_size,\n",
    "                              prototype_shape=prototype_shape,\n",
    "                              num_classes=num_classes,\n",
    "                              prototype_activation_function=prototype_activation_function,\n",
    "                              add_on_layers_type=add_on_layers_type)\n",
    "\n",
    "ppnet = ppnet.cuda()\n",
    "ppnet_multi = torch.nn.DataParallel(ppnet)\n",
    "ppnet_multi = torch.nn.DataParallel(ppnet).cuda()\n",
    "class_specific = True\n",
    "\n",
    "warm_optimizer_lrs = {'add_on_layers': 1e-3,\n",
    "                      'prototype_vectors': 1e-3}\n",
    "warm_optimizer_specs = \\\n",
    "    [{'params': ppnet.add_on_layers.parameters(), 'lr': warm_optimizer_lrs['add_on_layers'], 'weight_decay': 1e-3},\n",
    "     {'params': ppnet.prototype_vectors, 'lr': warm_optimizer_lrs['prototype_vectors']},\n",
    "    ]\n",
    "warm_optimizer = torch.optim.Adam(warm_optimizer_specs)\n",
    "\n",
    "joint_optimizer_lrs = {'features': 1e-4,\n",
    "                       'add_on_layers': 1e-3,\n",
    "                       'prototype_vectors': 1e-3}\n",
    "joint_optimizer_specs = \\\n",
    "[{'params': ppnet_multi.module.features.parameters(), 'lr': joint_optimizer_lrs['features'], 'weight_decay': 1e-3}, # bias are now also being regularized\n",
    " {'params': ppnet_multi.module.add_on_layers.parameters(), 'lr': joint_optimizer_lrs['add_on_layers'], 'weight_decay': 1e-3},\n",
    " {'params': ppnet_multi.module.prototype_vectors, 'lr': joint_optimizer_lrs['prototype_vectors']},\n",
    "]\n",
    "joint_optimizer = torch.optim.Adam(joint_optimizer_specs)\n",
    "\n",
    "joint_lr_step_size = 5\n",
    "gamma = 0.5\n",
    "joint_lr_scheduler = torch.optim.lr_scheduler.StepLR(joint_optimizer, step_size=joint_lr_step_size, gamma=0.5)\n",
    "\n",
    "last_layer_optimizer_lr = 1e-4\n",
    "last_layer_optimizer_specs = [{'params': ppnet.last_layer.parameters(), 'lr': last_layer_optimizer_lr}]\n",
    "last_layer_optimizer = torch.optim.Adam(last_layer_optimizer_specs)\n",
    "\n",
    "train_batch_size, test_batch_size, train_push_batch_size = 128, 128, 128\n",
    "push_epochs = [20, 40, 60, 99]\n",
    "push_saved_epochs = [20, 40, 60, 99]\n",
    "\n",
    "model_dir = '/scratch/users/jiaxun1218/saved_models/resnet34/'\n",
    "makedir(model_dir)\n",
    "log, logclose = create_logger(log_filename=os.path.join(model_dir, 'train.log'))\n"
   ]
  },
  {
   "cell_type": "code",
   "execution_count": 10,
   "id": "6678d1a2-3ec0-4cca-b8ef-4cb2ddeb4e57",
   "metadata": {
    "tags": []
   },
   "outputs": [
    {
     "name": "stderr",
     "output_type": "stream",
     "text": [
      "Downloading: \"https://download.pytorch.org/models/densenet161-8d451a50.pth\" to ./pretrained_models/densenet161-8d451a50.pth\n",
      "100%|██████████| 110M/110M [00:01<00:00, 116MB/s] \n"
     ]
    }
   ],
   "source": [
    "'''\n",
    "Model initialization for densenet; do not run this block when creating other models \n",
    "'''\n",
    "\n",
    "base_architecture = 'densenet161'\n",
    "prototype_shape = (2000, 128, 1, 1)\n",
    "\n",
    "ppnet = model.construct_PPNet(base_architecture=base_architecture,\n",
    "                              pretrained=True, img_size=img_size,\n",
    "                              prototype_shape=prototype_shape,\n",
    "                              num_classes=num_classes,\n",
    "                              prototype_activation_function=prototype_activation_function,\n",
    "                              add_on_layers_type=add_on_layers_type)\n",
    "\n",
    "ppnet = ppnet.cuda()\n",
    "ppnet_multi = torch.nn.DataParallel(ppnet)\n",
    "ppnet_multi = torch.nn.DataParallel(ppnet).cuda()\n",
    "class_specific = True\n",
    "\n",
    "warm_optimizer_lrs = {'add_on_layers': 1e-3,\n",
    "                      'prototype_vectors': 1e-3}\n",
    "warm_optimizer_specs = \\\n",
    "    [{'params': ppnet.add_on_layers.parameters(), 'lr': warm_optimizer_lrs['add_on_layers'], 'weight_decay': 1e-3},\n",
    "     {'params': ppnet.prototype_vectors, 'lr': warm_optimizer_lrs['prototype_vectors']},\n",
    "    ]\n",
    "warm_optimizer = torch.optim.Adam(warm_optimizer_specs)\n",
    "\n",
    "joint_optimizer_lrs = {'features': 1e-4,\n",
    "                       'add_on_layers': 1e-3,\n",
    "                       'prototype_vectors': 1e-3}\n",
    "joint_optimizer_specs = \\\n",
    "[{'params': ppnet_multi.module.features.parameters(), 'lr': joint_optimizer_lrs['features'], 'weight_decay': 1e-3}, # bias are now also being regularized\n",
    " {'params': ppnet_multi.module.add_on_layers.parameters(), 'lr': joint_optimizer_lrs['add_on_layers'], 'weight_decay': 1e-3},\n",
    " {'params': ppnet_multi.module.prototype_vectors, 'lr': joint_optimizer_lrs['prototype_vectors']},\n",
    "]\n",
    "joint_optimizer = torch.optim.Adam(joint_optimizer_specs)\n",
    "\n",
    "joint_lr_step_size = 5\n",
    "gamma = 0.5\n",
    "joint_lr_scheduler = torch.optim.lr_scheduler.StepLR(joint_optimizer, step_size=joint_lr_step_size, gamma=0.5)\n",
    "\n",
    "last_layer_optimizer_lr = 1e-4\n",
    "last_layer_optimizer_specs = [{'params': ppnet.last_layer.parameters(), 'lr': last_layer_optimizer_lr}]\n",
    "last_layer_optimizer = torch.optim.Adam(last_layer_optimizer_specs)\n",
    "\n",
    "train_batch_size, test_batch_size, train_push_batch_size = 128, 128, 128\n",
    "push_epochs = [20, 40, 60, 99]\n",
    "push_saved_epochs = [20, 40, 60, 99]\n",
    "\n",
    "model_dir = '/scratch/users/jiaxun1218/saved_models/densenet161/'\n",
    "makedir(model_dir)\n",
    "log, logclose = create_logger(log_filename=os.path.join(model_dir, 'train.log'))\n"
   ]
  },
  {
   "cell_type": "code",
   "execution_count": 11,
   "id": "f361666b-b47f-4876-a34b-0578a40b09f3",
   "metadata": {
    "tags": []
   },
   "outputs": [],
   "source": [
    "normalize = transforms.Normalize(mean=mean,\n",
    "                                 std=std)\n",
    "train_dataset = datasets.ImageFolder(\n",
    "        train_dir,\n",
    "        transforms.Compose([\n",
    "        transforms.Resize(size=(img_size, img_size)),\n",
    "        transforms.ToTensor(),\n",
    "        normalize,\n",
    "]))\n",
    "\n",
    "train_loader = torch.utils.data.DataLoader(\n",
    "    train_dataset, batch_size=train_batch_size, shuffle=True,\n",
    "    num_workers=2, pin_memory=False)\n",
    "\n",
    "# push set\n",
    "train_push_dataset = datasets.ImageFolder(\n",
    "    train_push_dir,\n",
    "    transforms.Compose([\n",
    "        transforms.Resize(size=(img_size, img_size)),\n",
    "        transforms.ToTensor(),\n",
    "]))\n",
    "\n",
    "train_push_loader = torch.utils.data.DataLoader(\n",
    "    train_push_dataset, batch_size=train_push_batch_size, shuffle=False,\n",
    "    num_workers=2, pin_memory=False)\n",
    "\n",
    "# test set\n",
    "test_dataset = datasets.ImageFolder(\n",
    "    test_dir,\n",
    "    transforms.Compose([\n",
    "        transforms.Resize(size=(img_size, img_size)),\n",
    "        transforms.ToTensor(),\n",
    "        normalize,\n",
    "]))\n",
    "\n",
    "test_loader = torch.utils.data.DataLoader(\n",
    "    test_dataset, batch_size=test_batch_size, shuffle=False,\n",
    "    num_workers=2, pin_memory=False)"
   ]
  },
  {
   "cell_type": "code",
   "execution_count": 12,
   "id": "d04c0e28-7a9c-4a7e-9289-97fb5629a698",
   "metadata": {
    "tags": []
   },
   "outputs": [
    {
     "name": "stdout",
     "output_type": "stream",
     "text": [
      "epoch: \t0\n",
      "\twarm\n",
      "\ttrain\n"
     ]
    },
    {
     "name": "stderr",
     "output_type": "stream",
     "text": [
      "1405it [08:39,  2.71it/s]\n"
     ]
    },
    {
     "name": "stdout",
     "output_type": "stream",
     "text": [
      "\ttime: \t519.3797466754913\n",
      "\tcross ent: \t4.7905920799092465\n",
      "\tcluster: \t1.7534360656216474\n",
      "\tseparation:\t1.4305785773567246\n",
      "\tavg separation:\t9.857729778086163\n",
      "\taccu: \t\t7.18385051718385%\n",
      "\tl1: \t\t201000.0\n",
      "\tp dist pair: \t19.467283248901367\n",
      "\ttest\n"
     ]
    },
    {
     "name": "stderr",
     "output_type": "stream",
     "text": [
      "46it [00:17,  2.62it/s]\n"
     ]
    },
    {
     "name": "stdout",
     "output_type": "stream",
     "text": [
      "\ttime: \t17.71340012550354\n",
      "\tcross ent: \t4.0388519038324775\n",
      "\tcluster: \t0.15035044045551962\n",
      "\tseparation:\t0.02786378910684067\n",
      "\tavg separation:\t9.562138951343039\n",
      "\taccu: \t\t13.030721435968243%\n",
      "\tl1: \t\t201000.0\n",
      "\tp dist pair: \t19.467283248901367\n",
      "Test accuracy:  0.13030721435968243\n",
      "epoch: \t1\n",
      "\twarm\n",
      "\ttrain\n"
     ]
    },
    {
     "name": "stderr",
     "output_type": "stream",
     "text": [
      "1405it [08:42,  2.69it/s]\n"
     ]
    },
    {
     "name": "stdout",
     "output_type": "stream",
     "text": [
      "\ttime: \t522.4186036586761\n",
      "\tcross ent: \t3.127825588348497\n",
      "\tcluster: \t0.09601140156441312\n",
      "\tseparation:\t0.02537955978746092\n",
      "\tavg separation:\t8.990663071628992\n",
      "\taccu: \t\t25.176843510176845%\n",
      "\tl1: \t\t201000.0\n",
      "\tp dist pair: \t17.13971519470215\n",
      "\ttest\n"
     ]
    },
    {
     "name": "stderr",
     "output_type": "stream",
     "text": [
      "46it [00:17,  2.69it/s]\n"
     ]
    },
    {
     "name": "stdout",
     "output_type": "stream",
     "text": [
      "\ttime: \t17.358643531799316\n",
      "\tcross ent: \t2.760948289995608\n",
      "\tcluster: \t0.10254242433154065\n",
      "\tseparation:\t0.02658904412680346\n",
      "\tavg separation:\t8.345132060672926\n",
      "\taccu: \t\t30.89402830514325%\n",
      "\tl1: \t\t201000.0\n",
      "\tp dist pair: \t17.13971519470215\n",
      "Test accuracy:  0.3089402830514325\n",
      "epoch: \t2\n",
      "\twarm\n",
      "\ttrain\n"
     ]
    },
    {
     "name": "stderr",
     "output_type": "stream",
     "text": [
      "1405it [08:44,  2.68it/s]\n"
     ]
    },
    {
     "name": "stdout",
     "output_type": "stream",
     "text": [
      "\ttime: \t524.251060962677\n",
      "\tcross ent: \t1.960029955181787\n",
      "\tcluster: \t0.07127862664940518\n",
      "\tseparation:\t0.030742590134678362\n",
      "\tavg separation:\t7.7159495085583885\n",
      "\taccu: \t\t47.14325436547659%\n",
      "\tl1: \t\t201000.0\n",
      "\tp dist pair: \t14.90956974029541\n",
      "\ttest\n"
     ]
    },
    {
     "name": "stderr",
     "output_type": "stream",
     "text": [
      "46it [00:17,  2.66it/s]\n"
     ]
    },
    {
     "name": "stdout",
     "output_type": "stream",
     "text": [
      "\ttime: \t17.52150869369507\n",
      "\tcross ent: \t2.0574652811755305\n",
      "\tcluster: \t0.08947994138883508\n",
      "\tseparation:\t0.0357327349079044\n",
      "\tavg separation:\t7.160227392030799\n",
      "\taccu: \t\t44.33897134967207%\n",
      "\tl1: \t\t201000.0\n",
      "\tp dist pair: \t14.90956974029541\n",
      "Test accuracy:  0.44338971349672074\n",
      "epoch: \t3\n",
      "\twarm\n",
      "\ttrain\n"
     ]
    },
    {
     "name": "stderr",
     "output_type": "stream",
     "text": [
      "1405it [08:42,  2.69it/s]\n"
     ]
    },
    {
     "name": "stdout",
     "output_type": "stream",
     "text": [
      "\ttime: \t522.8884618282318\n",
      "\tcross ent: \t1.3332104642196059\n",
      "\tcluster: \t0.0639174494189724\n",
      "\tseparation:\t0.037986899254797195\n",
      "\tavg separation:\t6.638148860320502\n",
      "\taccu: \t\t62.72327883438995%\n",
      "\tl1: \t\t201000.0\n",
      "\tp dist pair: \t13.03901195526123\n",
      "\ttest\n"
     ]
    },
    {
     "name": "stderr",
     "output_type": "stream",
     "text": [
      "46it [00:17,  2.67it/s]\n"
     ]
    },
    {
     "name": "stdout",
     "output_type": "stream",
     "text": [
      "\ttime: \t17.38951873779297\n",
      "\tcross ent: \t1.8480012572329978\n",
      "\tcluster: \t0.08699104708174\n",
      "\tseparation:\t0.03921900616715784\n",
      "\tavg separation:\t6.172654390335083\n",
      "\taccu: \t\t49.17155678287884%\n",
      "\tl1: \t\t201000.0\n",
      "\tp dist pair: \t13.03901195526123\n",
      "Test accuracy:  0.4917155678287884\n",
      "epoch: \t4\n",
      "\twarm\n",
      "\ttrain\n"
     ]
    },
    {
     "name": "stderr",
     "output_type": "stream",
     "text": [
      "1405it [08:42,  2.69it/s]\n"
     ]
    },
    {
     "name": "stdout",
     "output_type": "stream",
     "text": [
      "\ttime: \t522.2639009952545\n",
      "\tcross ent: \t0.987990308656387\n",
      "\tcluster: \t0.06283804499859064\n",
      "\tseparation:\t0.04386117627241009\n",
      "\tavg separation:\t5.78716905668537\n",
      "\taccu: \t\t72.04982760538317%\n",
      "\tl1: \t\t201000.0\n",
      "\tp dist pair: \t11.57022476196289\n",
      "\ttest\n"
     ]
    },
    {
     "name": "stderr",
     "output_type": "stream",
     "text": [
      "46it [00:17,  2.67it/s]\n"
     ]
    },
    {
     "name": "stdout",
     "output_type": "stream",
     "text": [
      "\ttime: \t17.48765540122986\n",
      "\tcross ent: \t1.7281557010567707\n",
      "\tcluster: \t0.08760713753492935\n",
      "\tseparation:\t0.04142333575240944\n",
      "\tavg separation:\t5.423294730808424\n",
      "\taccu: \t\t53.072143596824304%\n",
      "\tl1: \t\t201000.0\n",
      "\tp dist pair: \t11.57022476196289\n",
      "Test accuracy:  0.5307214359682431\n",
      "epoch: \t5\n",
      "\tjoint\n",
      "\ttrain\n"
     ]
    },
    {
     "name": "stderr",
     "output_type": "stream",
     "text": [
      "1405it [15:46,  1.48it/s]\n"
     ]
    },
    {
     "name": "stdout",
     "output_type": "stream",
     "text": [
      "\ttime: \t946.9248020648956\n",
      "\tcross ent: \t0.43360619147265084\n",
      "\tcluster: \t0.051461943885927945\n",
      "\tseparation:\t0.05135943494286401\n",
      "\tavg separation:\t5.368987154366707\n",
      "\taccu: \t\t88.00077855633411%\n",
      "\tl1: \t\t201000.0\n",
      "\tp dist pair: \t11.107673645019531\n",
      "\ttest\n"
     ]
    },
    {
     "name": "stderr",
     "output_type": "stream",
     "text": [
      "46it [00:17,  2.65it/s]\n"
     ]
    },
    {
     "name": "stdout",
     "output_type": "stream",
     "text": [
      "\ttime: \t17.638038396835327\n",
      "\tcross ent: \t1.2611286886360333\n",
      "\tcluster: \t0.071277578158871\n",
      "\tseparation:\t0.04994214471915494\n",
      "\tavg separation:\t5.210546980733457\n",
      "\taccu: \t\t67.55264066275457%\n",
      "\tl1: \t\t201000.0\n",
      "\tp dist pair: \t11.107673645019531\n",
      "Test accuracy:  0.6755264066275457\n",
      "epoch: \t6\n",
      "\tjoint\n",
      "\ttrain\n"
     ]
    },
    {
     "name": "stderr",
     "output_type": "stream",
     "text": [
      "1405it [15:45,  1.49it/s]\n"
     ]
    },
    {
     "name": "stdout",
     "output_type": "stream",
     "text": [
      "\ttime: \t945.7870688438416\n",
      "\tcross ent: \t0.12774042166583902\n",
      "\tcluster: \t0.03730304170386647\n",
      "\tseparation:\t0.06086874375139691\n",
      "\tavg separation:\t5.0777796422883705\n",
      "\taccu: \t\t96.75675675675676%\n",
      "\tl1: \t\t201000.0\n",
      "\tp dist pair: \t10.5148344039917\n",
      "\ttest\n"
     ]
    },
    {
     "name": "stderr",
     "output_type": "stream",
     "text": [
      "46it [00:17,  2.67it/s]\n"
     ]
    },
    {
     "name": "stdout",
     "output_type": "stream",
     "text": [
      "\ttime: \t17.35269784927368\n",
      "\tcross ent: \t1.3003558594247568\n",
      "\tcluster: \t0.075099627851792\n",
      "\tseparation:\t0.055130296589239784\n",
      "\tavg separation:\t4.929481475249581\n",
      "\taccu: \t\t69.0714532274767%\n",
      "\tl1: \t\t201000.0\n",
      "\tp dist pair: \t10.5148344039917\n",
      "Test accuracy:  0.690714532274767\n",
      "epoch: \t7\n",
      "\tjoint\n",
      "\ttrain\n"
     ]
    },
    {
     "name": "stderr",
     "output_type": "stream",
     "text": [
      "1405it [15:44,  1.49it/s]\n"
     ]
    },
    {
     "name": "stdout",
     "output_type": "stream",
     "text": [
      "\ttime: \t944.5445446968079\n",
      "\tcross ent: \t0.07014070653300268\n",
      "\tcluster: \t0.031897193315402465\n",
      "\tseparation:\t0.06521914045581614\n",
      "\tavg separation:\t4.846441993509748\n",
      "\taccu: \t\t98.24602380157935%\n",
      "\tl1: \t\t201000.0\n",
      "\tp dist pair: \t10.14432430267334\n",
      "\ttest\n"
     ]
    },
    {
     "name": "stderr",
     "output_type": "stream",
     "text": [
      "46it [00:18,  2.48it/s]\n"
     ]
    },
    {
     "name": "stdout",
     "output_type": "stream",
     "text": [
      "\ttime: \t18.822028875350952\n",
      "\tcross ent: \t1.2573473764502483\n",
      "\tcluster: \t0.0714864682244218\n",
      "\tseparation:\t0.059819871154816254\n",
      "\tavg separation:\t4.743803542593251\n",
      "\taccu: \t\t70.33137728684846%\n",
      "\tl1: \t\t201000.0\n",
      "\tp dist pair: \t10.14432430267334\n",
      "Test accuracy:  0.7033137728684846\n",
      "epoch: \t8\n",
      "\tjoint\n",
      "\ttrain\n"
     ]
    },
    {
     "name": "stderr",
     "output_type": "stream",
     "text": [
      "1405it [15:42,  1.49it/s]\n"
     ]
    },
    {
     "name": "stdout",
     "output_type": "stream",
     "text": [
      "\ttime: \t942.9451603889465\n",
      "\tcross ent: \t0.07343651868429472\n",
      "\tcluster: \t0.03309611863725126\n",
      "\tseparation:\t0.07182535831932496\n",
      "\tavg separation:\t4.670403616962908\n",
      "\taccu: \t\t98.06306306306305%\n",
      "\tl1: \t\t201000.0\n",
      "\tp dist pair: \t9.857073783874512\n",
      "\ttest\n"
     ]
    },
    {
     "name": "stderr",
     "output_type": "stream",
     "text": [
      "46it [00:17,  2.64it/s]\n"
     ]
    },
    {
     "name": "stdout",
     "output_type": "stream",
     "text": [
      "\ttime: \t17.64574360847473\n",
      "\tcross ent: \t1.3240969828937366\n",
      "\tcluster: \t0.07549974864915661\n",
      "\tseparation:\t0.06565197152288063\n",
      "\tavg separation:\t4.609466386877972\n",
      "\taccu: \t\t70.46945115636866%\n",
      "\tl1: \t\t201000.0\n",
      "\tp dist pair: \t9.857073783874512\n",
      "Test accuracy:  0.7046945115636866\n",
      "epoch: \t9\n",
      "\tjoint\n",
      "\ttrain\n"
     ]
    },
    {
     "name": "stderr",
     "output_type": "stream",
     "text": [
      "1405it [15:39,  1.50it/s]\n"
     ]
    },
    {
     "name": "stdout",
     "output_type": "stream",
     "text": [
      "\ttime: \t939.2335751056671\n",
      "\tcross ent: \t0.07139614568658677\n",
      "\tcluster: \t0.03326503044239567\n",
      "\tseparation:\t0.07963073640213318\n",
      "\tavg separation:\t4.566268227193704\n",
      "\taccu: \t\t98.11589367144923%\n",
      "\tl1: \t\t201000.0\n",
      "\tp dist pair: \t9.674647331237793\n",
      "\ttest\n"
     ]
    },
    {
     "name": "stderr",
     "output_type": "stream",
     "text": [
      "46it [00:17,  2.62it/s]\n"
     ]
    },
    {
     "name": "stdout",
     "output_type": "stream",
     "text": [
      "\ttime: \t17.734500646591187\n",
      "\tcross ent: \t1.296534319286761\n",
      "\tcluster: \t0.07351782245804435\n",
      "\tseparation:\t0.0725031751005546\n",
      "\tavg separation:\t4.5172032066013506\n",
      "\taccu: \t\t72.00552295478082%\n",
      "\tl1: \t\t201000.0\n",
      "\tp dist pair: \t9.674647331237793\n",
      "Test accuracy:  0.7200552295478081\n",
      "epoch: \t10\n",
      "\tjoint\n",
      "\ttrain\n"
     ]
    },
    {
     "name": "stderr",
     "output_type": "stream",
     "text": [
      "1405it [15:37,  1.50it/s]\n"
     ]
    },
    {
     "name": "stdout",
     "output_type": "stream",
     "text": [
      "\ttime: \t938.1361243724823\n",
      "\tcross ent: \t0.008019843794025558\n",
      "\tcluster: \t0.01583986459134206\n",
      "\tseparation:\t0.10293395336836683\n",
      "\tavg separation:\t4.523675139688512\n",
      "\taccu: \t\t99.81870759648538%\n",
      "\tl1: \t\t201000.0\n",
      "\tp dist pair: \t9.581328392028809\n",
      "\ttest\n"
     ]
    },
    {
     "name": "stderr",
     "output_type": "stream",
     "text": [
      "46it [00:17,  2.64it/s]\n"
     ]
    },
    {
     "name": "stdout",
     "output_type": "stream",
     "text": [
      "\ttime: \t17.623018503189087\n",
      "\tcross ent: \t1.1266653829294702\n",
      "\tcluster: \t0.06530033319216708\n",
      "\tseparation:\t0.1032672216710837\n",
      "\tavg separation:\t4.517140564711197\n",
      "\taccu: \t\t76.2167759751467%\n",
      "\tl1: \t\t201000.0\n",
      "\tp dist pair: \t9.581328392028809\n",
      "Test accuracy:  0.762167759751467\n",
      "\tabove 76.00%\n",
      "epoch: \t11\n",
      "\tjoint\n",
      "\ttrain\n"
     ]
    },
    {
     "name": "stderr",
     "output_type": "stream",
     "text": [
      "1405it [15:35,  1.50it/s]\n"
     ]
    },
    {
     "name": "stdout",
     "output_type": "stream",
     "text": [
      "\ttime: \t935.3936235904694\n",
      "\tcross ent: \t0.01723439512032045\n",
      "\tcluster: \t0.016217535646678716\n",
      "\tseparation:\t0.13754049606912924\n",
      "\tavg separation:\t4.508335390803652\n",
      "\taccu: \t\t99.57457457457457%\n",
      "\tl1: \t\t201000.0\n",
      "\tp dist pair: \t9.491765975952148\n",
      "\ttest\n"
     ]
    },
    {
     "name": "stderr",
     "output_type": "stream",
     "text": [
      "46it [00:17,  2.70it/s]\n"
     ]
    },
    {
     "name": "stdout",
     "output_type": "stream",
     "text": [
      "\ttime: \t17.290948152542114\n",
      "\tcross ent: \t1.3413943350315094\n",
      "\tcluster: \t0.07986576280192188\n",
      "\tseparation:\t0.10387205883212712\n",
      "\tavg separation:\t4.456866824108621\n",
      "\taccu: \t\t72.04004142216085%\n",
      "\tl1: \t\t201000.0\n",
      "\tp dist pair: \t9.491765975952148\n",
      "Test accuracy:  0.7204004142216086\n",
      "epoch: \t12\n",
      "\tjoint\n",
      "\ttrain\n"
     ]
    },
    {
     "name": "stderr",
     "output_type": "stream",
     "text": [
      "1405it [15:36,  1.50it/s]\n"
     ]
    },
    {
     "name": "stdout",
     "output_type": "stream",
     "text": [
      "\ttime: \t937.0760126113892\n",
      "\tcross ent: \t0.018855178781853013\n",
      "\tcluster: \t0.0175221060346348\n",
      "\tseparation:\t0.13615676788248626\n",
      "\tavg separation:\t4.445093722360414\n",
      "\taccu: \t\t99.53564675786897%\n",
      "\tl1: \t\t201000.0\n",
      "\tp dist pair: \t9.40796184539795\n",
      "\ttest\n"
     ]
    },
    {
     "name": "stderr",
     "output_type": "stream",
     "text": [
      "46it [00:17,  2.65it/s]\n"
     ]
    },
    {
     "name": "stdout",
     "output_type": "stream",
     "text": [
      "\ttime: \t17.53559374809265\n",
      "\tcross ent: \t1.3058302143345708\n",
      "\tcluster: \t0.08102401872367962\n",
      "\tseparation:\t0.12454107257982959\n",
      "\tavg separation:\t4.444021214609561\n",
      "\taccu: \t\t74.11114946496376%\n",
      "\tl1: \t\t201000.0\n",
      "\tp dist pair: \t9.40796184539795\n",
      "Test accuracy:  0.7411114946496375\n",
      "epoch: \t13\n",
      "\tjoint\n",
      "\ttrain\n"
     ]
    },
    {
     "name": "stderr",
     "output_type": "stream",
     "text": [
      "1405it [15:35,  1.50it/s]\n"
     ]
    },
    {
     "name": "stdout",
     "output_type": "stream",
     "text": [
      "\ttime: \t935.7076163291931\n",
      "\tcross ent: \t0.02672057153029016\n",
      "\tcluster: \t0.019816217415061285\n",
      "\tseparation:\t0.14714150037417634\n",
      "\tavg separation:\t4.408021684558366\n",
      "\taccu: \t\t99.31598264931598%\n",
      "\tl1: \t\t201000.0\n",
      "\tp dist pair: \t9.320932388305664\n",
      "\ttest\n"
     ]
    },
    {
     "name": "stderr",
     "output_type": "stream",
     "text": [
      "46it [00:17,  2.63it/s]\n"
     ]
    },
    {
     "name": "stdout",
     "output_type": "stream",
     "text": [
      "\ttime: \t17.699159145355225\n",
      "\tcross ent: \t1.321306864204614\n",
      "\tcluster: \t0.07777145699314449\n",
      "\tseparation:\t0.11828590297828549\n",
      "\tavg separation:\t4.37506215468697\n",
      "\taccu: \t\t73.88677942699344%\n",
      "\tl1: \t\t201000.0\n",
      "\tp dist pair: \t9.320932388305664\n",
      "Test accuracy:  0.7388677942699344\n",
      "epoch: \t14\n",
      "\tjoint\n",
      "\ttrain\n"
     ]
    },
    {
     "name": "stderr",
     "output_type": "stream",
     "text": [
      "1405it [15:37,  1.50it/s]\n"
     ]
    },
    {
     "name": "stdout",
     "output_type": "stream",
     "text": [
      "\ttime: \t937.5758759975433\n",
      "\tcross ent: \t0.009042269284867501\n",
      "\tcluster: \t0.013258638818254462\n",
      "\tseparation:\t0.18137242352835226\n",
      "\tavg separation:\t4.417545116329532\n",
      "\taccu: \t\t99.79423868312757%\n",
      "\tl1: \t\t201000.0\n",
      "\tp dist pair: \t9.322993278503418\n",
      "\ttest\n"
     ]
    },
    {
     "name": "stderr",
     "output_type": "stream",
     "text": [
      "46it [00:17,  2.63it/s]\n"
     ]
    },
    {
     "name": "stdout",
     "output_type": "stream",
     "text": [
      "\ttime: \t17.625316381454468\n",
      "\tcross ent: \t1.238804420699244\n",
      "\tcluster: \t0.0914674985991872\n",
      "\tseparation:\t0.17009928595760596\n",
      "\tavg separation:\t4.4405820784361465\n",
      "\taccu: \t\t75.81981360027615%\n",
      "\tl1: \t\t201000.0\n",
      "\tp dist pair: \t9.322993278503418\n",
      "Test accuracy:  0.7581981360027614\n",
      "epoch: \t15\n",
      "\tjoint\n",
      "\ttrain\n"
     ]
    },
    {
     "name": "stderr",
     "output_type": "stream",
     "text": [
      "1405it [15:40,  1.49it/s]\n"
     ]
    },
    {
     "name": "stdout",
     "output_type": "stream",
     "text": [
      "\ttime: \t940.4532306194305\n",
      "\tcross ent: \t0.002120751785625278\n",
      "\tcluster: \t0.008956051254611847\n",
      "\tseparation:\t0.27168805168616816\n",
      "\tavg separation:\t4.466067482483345\n",
      "\taccu: \t\t99.95884773662551%\n",
      "\tl1: \t\t201000.0\n",
      "\tp dist pair: \t9.360575675964355\n",
      "\ttest\n"
     ]
    },
    {
     "name": "stderr",
     "output_type": "stream",
     "text": [
      "46it [00:17,  2.62it/s]\n"
     ]
    },
    {
     "name": "stdout",
     "output_type": "stream",
     "text": [
      "\ttime: \t17.798328399658203\n",
      "\tcross ent: \t1.117713992362437\n",
      "\tcluster: \t0.1185679331259883\n",
      "\tseparation:\t0.2770588184180467\n",
      "\tavg separation:\t4.50194033332493\n",
      "\taccu: \t\t78.32240248532966%\n",
      "\tl1: \t\t201000.0\n",
      "\tp dist pair: \t9.360575675964355\n",
      "Test accuracy:  0.7832240248532966\n",
      "\tabove 76.00%\n",
      "epoch: \t16\n",
      "\tjoint\n",
      "\ttrain\n"
     ]
    },
    {
     "name": "stderr",
     "output_type": "stream",
     "text": [
      "1405it [15:46,  1.49it/s]\n"
     ]
    },
    {
     "name": "stdout",
     "output_type": "stream",
     "text": [
      "\ttime: \t946.4413831233978\n",
      "\tcross ent: \t0.0014824204533277522\n",
      "\tcluster: \t0.008721500928132559\n",
      "\tseparation:\t0.45631919810780425\n",
      "\tavg separation:\t4.588345516109806\n",
      "\taccu: \t\t99.97497497497497%\n",
      "\tl1: \t\t201000.0\n",
      "\tp dist pair: \t9.59024429321289\n",
      "\ttest\n"
     ]
    },
    {
     "name": "stderr",
     "output_type": "stream",
     "text": [
      "46it [00:17,  2.64it/s]\n"
     ]
    },
    {
     "name": "stdout",
     "output_type": "stream",
     "text": [
      "\ttime: \t17.61433434486389\n",
      "\tcross ent: \t1.2306682784920153\n",
      "\tcluster: \t0.1902751277970231\n",
      "\tseparation:\t0.4668898452883181\n",
      "\tavg separation:\t4.689864251924598\n",
      "\taccu: \t\t77.01070072488781%\n",
      "\tl1: \t\t201000.0\n",
      "\tp dist pair: \t9.59024429321289\n",
      "Test accuracy:  0.7701070072488782\n",
      "\tabove 76.00%\n",
      "epoch: \t17\n",
      "\tjoint\n",
      "\ttrain\n"
     ]
    },
    {
     "name": "stderr",
     "output_type": "stream",
     "text": [
      "1405it [15:42,  1.49it/s]\n"
     ]
    },
    {
     "name": "stdout",
     "output_type": "stream",
     "text": [
      "\ttime: \t942.484277009964\n",
      "\tcross ent: \t0.0034060751280219756\n",
      "\tcluster: \t0.014269860580669603\n",
      "\tseparation:\t0.8390265022732609\n",
      "\tavg separation:\t5.0393443209420745\n",
      "\taccu: \t\t99.9460571682794%\n",
      "\tl1: \t\t201000.0\n",
      "\tp dist pair: \t10.28971004486084\n",
      "\ttest\n"
     ]
    },
    {
     "name": "stderr",
     "output_type": "stream",
     "text": [
      "46it [00:17,  2.66it/s]\n"
     ]
    },
    {
     "name": "stdout",
     "output_type": "stream",
     "text": [
      "\ttime: \t17.47099804878235\n",
      "\tcross ent: \t1.2641144537407418\n",
      "\tcluster: \t0.31306956449280615\n",
      "\tseparation:\t0.9431581898875858\n",
      "\tavg separation:\t5.59945681820745\n",
      "\taccu: \t\t77.26958923023818%\n",
      "\tl1: \t\t201000.0\n",
      "\tp dist pair: \t10.28971004486084\n",
      "Test accuracy:  0.7726958923023818\n",
      "\tabove 76.00%\n",
      "epoch: \t18\n",
      "\tjoint\n",
      "\ttrain\n"
     ]
    },
    {
     "name": "stderr",
     "output_type": "stream",
     "text": [
      "1405it [15:40,  1.49it/s]\n"
     ]
    },
    {
     "name": "stdout",
     "output_type": "stream",
     "text": [
      "\ttime: \t940.9686245918274\n",
      "\tcross ent: \t0.008584913739096043\n",
      "\tcluster: \t0.029048151681961964\n",
      "\tseparation:\t2.064534478000899\n",
      "\tavg separation:\t7.178990892498518\n",
      "\taccu: \t\t99.90156823490157%\n",
      "\tl1: \t\t201000.0\n",
      "\tp dist pair: \t11.839831352233887\n",
      "\ttest\n"
     ]
    },
    {
     "name": "stderr",
     "output_type": "stream",
     "text": [
      "46it [00:17,  2.61it/s]\n"
     ]
    },
    {
     "name": "stdout",
     "output_type": "stream",
     "text": [
      "\ttime: \t17.856024742126465\n",
      "\tcross ent: \t1.2716398297444633\n",
      "\tcluster: \t0.549814271538154\n",
      "\tseparation:\t2.2995940317278323\n",
      "\tavg separation:\t8.47033201093259\n",
      "\taccu: \t\t77.70107007248878%\n",
      "\tl1: \t\t201000.0\n",
      "\tp dist pair: \t11.839831352233887\n",
      "Test accuracy:  0.7770107007248878\n",
      "\tabove 76.00%\n",
      "epoch: \t19\n",
      "\tjoint\n",
      "\ttrain\n"
     ]
    },
    {
     "name": "stderr",
     "output_type": "stream",
     "text": [
      "1405it [15:36,  1.50it/s]\n"
     ]
    },
    {
     "name": "stdout",
     "output_type": "stream",
     "text": [
      "\ttime: \t937.1266820430756\n",
      "\tcross ent: \t0.013208897933082197\n",
      "\tcluster: \t0.03835959378033346\n",
      "\tseparation:\t5.062068303878621\n",
      "\tavg separation:\t11.731820972619108\n",
      "\taccu: \t\t99.96774552330108%\n",
      "\tl1: \t\t201000.0\n",
      "\tp dist pair: \t15.043126106262207\n",
      "\ttest\n"
     ]
    },
    {
     "name": "stderr",
     "output_type": "stream",
     "text": [
      "46it [00:17,  2.65it/s]\n"
     ]
    },
    {
     "name": "stdout",
     "output_type": "stream",
     "text": [
      "\ttime: \t17.509530782699585\n",
      "\tcross ent: \t1.4441641711670419\n",
      "\tcluster: \t1.0807057554307191\n",
      "\tseparation:\t5.175519200770752\n",
      "\tavg separation:\t13.475024866021197\n",
      "\taccu: \t\t78.32240248532966%\n",
      "\tl1: \t\t201000.0\n",
      "\tp dist pair: \t15.043126106262207\n",
      "Test accuracy:  0.7832240248532966\n",
      "\tabove 76.00%\n",
      "epoch: \t20\n",
      "\tjoint\n",
      "\ttrain\n"
     ]
    },
    {
     "name": "stderr",
     "output_type": "stream",
     "text": [
      "1405it [15:40,  1.49it/s]\n"
     ]
    },
    {
     "name": "stdout",
     "output_type": "stream",
     "text": [
      "\ttime: \t940.4572038650513\n",
      "\tcross ent: \t0.015672081507397715\n",
      "\tcluster: \t0.03119476279939833\n",
      "\tseparation:\t8.950711749881188\n",
      "\tavg separation:\t16.91864326585654\n",
      "\taccu: \t\t99.99110221332444%\n",
      "\tl1: \t\t201000.0\n",
      "\tp dist pair: \t17.380887985229492\n",
      "\tpush\n",
      "\tExecuting push ...\n",
      "\tpush time: \t29.181363582611084\n",
      "\ttest\n"
     ]
    },
    {
     "name": "stderr",
     "output_type": "stream",
     "text": [
      "46it [00:16,  2.71it/s]\n"
     ]
    },
    {
     "name": "stdout",
     "output_type": "stream",
     "text": [
      "\ttime: \t17.20949077606201\n",
      "\tcross ent: \t11.06087589263916\n",
      "\tcluster: \t1.1135991261057232\n",
      "\tseparation:\t0.021658909993003243\n",
      "\tavg separation:\t16.433472052864406\n",
      "\taccu: \t\t38.298239558163615%\n",
      "\tl1: \t\t201000.0\n",
      "\tp dist pair: \t20.344970703125\n",
      "\tlast layer\n",
      "iteration: \t0\n",
      "\ttrain\n"
     ]
    },
    {
     "name": "stderr",
     "output_type": "stream",
     "text": [
      "1405it [08:40,  2.70it/s]\n"
     ]
    },
    {
     "name": "stdout",
     "output_type": "stream",
     "text": [
      "\ttime: \t520.8059225082397\n",
      "\tcross ent: \t0.07533810576762166\n",
      "\tcluster: \t0.020323812925783766\n",
      "\tseparation:\t0.02246109310975066\n",
      "\tavg separation:\t17.63270058275542\n",
      "\taccu: \t\t98.57079301523746%\n",
      "\tl1: \t\t154039.453125\n",
      "\tp dist pair: \t20.344970703125\n",
      "\ttest\n"
     ]
    },
    {
     "name": "stderr",
     "output_type": "stream",
     "text": [
      "46it [00:17,  2.68it/s]\n"
     ]
    },
    {
     "name": "stdout",
     "output_type": "stream",
     "text": [
      "\ttime: \t17.35026979446411\n",
      "\tcross ent: \t2.5032392753207167\n",
      "\tcluster: \t1.0986662500578424\n",
      "\tseparation:\t0.02142780225562013\n",
      "\tavg separation:\t16.379355865976084\n",
      "\taccu: \t\t71.21159820503969%\n",
      "\tl1: \t\t154039.453125\n",
      "\tp dist pair: \t20.344970703125\n",
      "Test accuracy:  0.712115982050397\n",
      "iteration: \t1\n",
      "\ttrain\n"
     ]
    },
    {
     "name": "stderr",
     "output_type": "stream",
     "text": [
      "1405it [08:40,  2.70it/s]\n"
     ]
    },
    {
     "name": "stdout",
     "output_type": "stream",
     "text": [
      "\ttime: \t520.7200820446014\n",
      "\tcross ent: \t0.01168931233005812\n",
      "\tcluster: \t0.020427018357606547\n",
      "\tseparation:\t0.02245367330323335\n",
      "\tavg separation:\t17.633374923488848\n",
      "\taccu: \t\t99.92881770659548%\n",
      "\tl1: \t\t104364.703125\n",
      "\tp dist pair: \t20.344970703125\n",
      "\ttest\n"
     ]
    },
    {
     "name": "stderr",
     "output_type": "stream",
     "text": [
      "46it [00:17,  2.66it/s]\n"
     ]
    },
    {
     "name": "stdout",
     "output_type": "stream",
     "text": [
      "\ttime: \t17.503476858139038\n",
      "\tcross ent: \t2.357899529778439\n",
      "\tcluster: \t1.1054347274096117\n",
      "\tseparation:\t0.021602307810731556\n",
      "\tavg separation:\t16.409164926280145\n",
      "\taccu: \t\t69.91715567828788%\n",
      "\tl1: \t\t104364.703125\n",
      "\tp dist pair: \t20.344970703125\n",
      "Test accuracy:  0.6991715567828788\n",
      "iteration: \t2\n",
      "\ttrain\n"
     ]
    },
    {
     "name": "stderr",
     "output_type": "stream",
     "text": [
      "1405it [08:40,  2.70it/s]\n"
     ]
    },
    {
     "name": "stdout",
     "output_type": "stream",
     "text": [
      "\ttime: \t520.507354259491\n",
      "\tcross ent: \t0.017736146645703322\n",
      "\tcluster: \t0.02036053176929518\n",
      "\tseparation:\t0.022470266708699834\n",
      "\tavg separation:\t17.632692551528006\n",
      "\taccu: \t\t99.8387276165054%\n",
      "\tl1: \t\t53887.49609375\n",
      "\tp dist pair: \t20.344970703125\n",
      "\ttest\n"
     ]
    },
    {
     "name": "stderr",
     "output_type": "stream",
     "text": [
      "46it [00:17,  2.70it/s]\n"
     ]
    },
    {
     "name": "stdout",
     "output_type": "stream",
     "text": [
      "\ttime: \t17.28618049621582\n",
      "\tcross ent: \t2.4691255597964576\n",
      "\tcluster: \t1.108552991696026\n",
      "\tseparation:\t0.021838139094736263\n",
      "\tavg separation:\t16.42232888677846\n",
      "\taccu: \t\t64.03175698998965%\n",
      "\tl1: \t\t53887.49609375\n",
      "\tp dist pair: \t20.344970703125\n",
      "Test accuracy:  0.6403175698998964\n",
      "iteration: \t3\n",
      "\ttrain\n"
     ]
    },
    {
     "name": "stderr",
     "output_type": "stream",
     "text": [
      "1405it [08:41,  2.69it/s]\n"
     ]
    },
    {
     "name": "stdout",
     "output_type": "stream",
     "text": [
      "\ttime: \t521.8863065242767\n",
      "\tcross ent: \t0.01789360020592543\n",
      "\tcluster: \t0.020412542800886353\n",
      "\tseparation:\t0.022450176078918988\n",
      "\tavg separation:\t17.63320653243421\n",
      "\taccu: \t\t99.83761539317095%\n",
      "\tl1: \t\t19727.0\n",
      "\tp dist pair: \t20.344970703125\n",
      "\ttest\n"
     ]
    },
    {
     "name": "stderr",
     "output_type": "stream",
     "text": [
      "46it [00:17,  2.63it/s]\n"
     ]
    },
    {
     "name": "stdout",
     "output_type": "stream",
     "text": [
      "\ttime: \t17.58963131904602\n",
      "\tcross ent: \t2.653589769549992\n",
      "\tcluster: \t1.1095303996749546\n",
      "\tseparation:\t0.02155235600050377\n",
      "\tavg separation:\t16.411412550055463\n",
      "\taccu: \t\t61.59820503969624%\n",
      "\tl1: \t\t19727.0\n",
      "\tp dist pair: \t20.344970703125\n",
      "Test accuracy:  0.6159820503969624\n",
      "iteration: \t4\n",
      "\ttrain\n"
     ]
    },
    {
     "name": "stderr",
     "output_type": "stream",
     "text": [
      "1405it [08:40,  2.70it/s]\n"
     ]
    },
    {
     "name": "stdout",
     "output_type": "stream",
     "text": [
      "\ttime: \t521.07732462883\n",
      "\tcross ent: \t0.010810019342237884\n",
      "\tcluster: \t0.020412149020467365\n",
      "\tseparation:\t0.022455505549483452\n",
      "\tavg separation:\t17.632981928217877\n",
      "\taccu: \t\t99.89322655989322%\n",
      "\tl1: \t\t14981.8759765625\n",
      "\tp dist pair: \t20.344970703125\n",
      "\ttest\n"
     ]
    },
    {
     "name": "stderr",
     "output_type": "stream",
     "text": [
      "46it [00:17,  2.68it/s]\n"
     ]
    },
    {
     "name": "stdout",
     "output_type": "stream",
     "text": [
      "\ttime: \t17.391732215881348\n",
      "\tcross ent: \t2.672717485738837\n",
      "\tcluster: \t1.0980235409477483\n",
      "\tseparation:\t0.021191646749882595\n",
      "\tavg separation:\t16.35634708404541\n",
      "\taccu: \t\t62.01242664825681%\n",
      "\tl1: \t\t14981.8759765625\n",
      "\tp dist pair: \t20.344970703125\n",
      "Test accuracy:  0.6201242664825681\n",
      "iteration: \t5\n",
      "\ttrain\n"
     ]
    },
    {
     "name": "stderr",
     "output_type": "stream",
     "text": [
      "1405it [08:45,  2.67it/s]\n"
     ]
    },
    {
     "name": "stdout",
     "output_type": "stream",
     "text": [
      "\ttime: \t525.8438637256622\n",
      "\tcross ent: \t0.01083962180017292\n",
      "\tcluster: \t0.020457200712633728\n",
      "\tseparation:\t0.022495614407166468\n",
      "\tavg separation:\t17.6328410355646\n",
      "\taccu: \t\t99.89155822489157%\n",
      "\tl1: \t\t12991.3212890625\n",
      "\tp dist pair: \t20.344970703125\n",
      "\ttest\n"
     ]
    },
    {
     "name": "stderr",
     "output_type": "stream",
     "text": [
      "46it [00:17,  2.65it/s]\n"
     ]
    },
    {
     "name": "stdout",
     "output_type": "stream",
     "text": [
      "\ttime: \t17.538774728775024\n",
      "\tcross ent: \t2.6001186526339986\n",
      "\tcluster: \t1.108976864296457\n",
      "\tseparation:\t0.021417711335031883\n",
      "\tavg separation:\t16.418416624483854\n",
      "\taccu: \t\t64.46323783224025%\n",
      "\tl1: \t\t12991.3212890625\n",
      "\tp dist pair: \t20.344970703125\n",
      "Test accuracy:  0.6446323783224025\n",
      "iteration: \t6\n",
      "\ttrain\n"
     ]
    },
    {
     "name": "stderr",
     "output_type": "stream",
     "text": [
      "1405it [08:41,  2.70it/s]\n"
     ]
    },
    {
     "name": "stdout",
     "output_type": "stream",
     "text": [
      "\ttime: \t521.4331614971161\n",
      "\tcross ent: \t0.012458923517819992\n",
      "\tcluster: \t0.02040315902397514\n",
      "\tseparation:\t0.02247177708456525\n",
      "\tavg separation:\t17.633507437383578\n",
      "\taccu: \t\t99.88710933155377%\n",
      "\tl1: \t\t11489.009765625\n",
      "\tp dist pair: \t20.344970703125\n",
      "\ttest\n"
     ]
    },
    {
     "name": "stderr",
     "output_type": "stream",
     "text": [
      "46it [00:17,  2.69it/s]\n"
     ]
    },
    {
     "name": "stdout",
     "output_type": "stream",
     "text": [
      "\ttime: \t17.263211011886597\n",
      "\tcross ent: \t2.597791884256446\n",
      "\tcluster: \t1.1124284069823183\n",
      "\tseparation:\t0.0219725603642671\n",
      "\tavg separation:\t16.43863114066746\n",
      "\taccu: \t\t67.19019675526407%\n",
      "\tl1: \t\t11489.009765625\n",
      "\tp dist pair: \t20.344970703125\n",
      "Test accuracy:  0.6719019675526406\n",
      "iteration: \t7\n",
      "\ttrain\n"
     ]
    },
    {
     "name": "stderr",
     "output_type": "stream",
     "text": [
      "1405it [08:40,  2.70it/s]\n"
     ]
    },
    {
     "name": "stdout",
     "output_type": "stream",
     "text": [
      "\ttime: \t520.4599702358246\n",
      "\tcross ent: \t0.014061652977794062\n",
      "\tcluster: \t0.020400022146593633\n",
      "\tseparation:\t0.02246989172309955\n",
      "\tavg separation:\t17.632274339886322\n",
      "\taccu: \t\t99.88377266155044%\n",
      "\tl1: \t\t10302.90234375\n",
      "\tp dist pair: \t20.344970703125\n",
      "\ttest\n"
     ]
    },
    {
     "name": "stderr",
     "output_type": "stream",
     "text": [
      "46it [00:17,  2.68it/s]\n"
     ]
    },
    {
     "name": "stdout",
     "output_type": "stream",
     "text": [
      "\ttime: \t17.434003353118896\n",
      "\tcross ent: \t2.59794549708781\n",
      "\tcluster: \t1.1018755361437798\n",
      "\tseparation:\t0.02129922612853672\n",
      "\tavg separation:\t16.391666826994523\n",
      "\taccu: \t\t68.32930617880567%\n",
      "\tl1: \t\t10302.90234375\n",
      "\tp dist pair: \t20.344970703125\n",
      "Test accuracy:  0.6832930617880566\n",
      "\ttest\n"
     ]
    },
    {
     "name": "stderr",
     "output_type": "stream",
     "text": [
      "46it [00:17,  2.68it/s]\n"
     ]
    },
    {
     "name": "stdout",
     "output_type": "stream",
     "text": [
      "\ttime: \t17.41022825241089\n",
      "\tcross ent: \t2.59794549708781\n",
      "\tcluster: \t1.1018755361437798\n",
      "\tseparation:\t0.02129922612853672\n",
      "\tavg separation:\t16.391666826994523\n",
      "\taccu: \t\t68.32930617880567%\n",
      "\tl1: \t\t10302.90234375\n",
      "\tp dist pair: \t20.344970703125\n",
      "Test accuracy:  0.6832930617880566\n",
      "epoch: \t21\n",
      "\tjoint\n",
      "\ttrain\n"
     ]
    },
    {
     "name": "stderr",
     "output_type": "stream",
     "text": [
      "1405it [15:35,  1.50it/s]\n"
     ]
    },
    {
     "name": "stdout",
     "output_type": "stream",
     "text": [
      "\ttime: \t935.5695149898529\n",
      "\tcross ent: \t0.008283310331928752\n",
      "\tcluster: \t0.04282246598728611\n",
      "\tseparation:\t10.15593119473644\n",
      "\tavg separation:\t22.177039144387024\n",
      "\taccu: \t\t99.97942386831275%\n",
      "\tl1: \t\t10302.90234375\n",
      "\tp dist pair: \t22.479202270507812\n",
      "\ttest\n"
     ]
    },
    {
     "name": "stderr",
     "output_type": "stream",
     "text": [
      "46it [00:17,  2.63it/s]\n"
     ]
    },
    {
     "name": "stdout",
     "output_type": "stream",
     "text": [
      "\ttime: \t17.56853723526001\n",
      "\tcross ent: \t1.7125517058631647\n",
      "\tcluster: \t2.3748333065406135\n",
      "\tseparation:\t10.203246982201286\n",
      "\tavg separation:\t23.16922079998514\n",
      "\taccu: \t\t78.40869865377978%\n",
      "\tl1: \t\t10302.90234375\n",
      "\tp dist pair: \t22.479202270507812\n",
      "Test accuracy:  0.7840869865377977\n",
      "\tabove 76.00%\n",
      "epoch: \t22\n",
      "\tjoint\n",
      "\ttrain\n"
     ]
    },
    {
     "name": "stderr",
     "output_type": "stream",
     "text": [
      "1405it [15:25,  1.52it/s]\n"
     ]
    },
    {
     "name": "stdout",
     "output_type": "stream",
     "text": [
      "\ttime: \t925.4764578342438\n",
      "\tcross ent: \t0.016585131929491338\n",
      "\tcluster: \t0.03435154660104433\n",
      "\tseparation:\t15.75455356679353\n",
      "\tavg separation:\t27.557077209635562\n",
      "\taccu: \t\t99.99332665999333%\n",
      "\tl1: \t\t10302.90234375\n",
      "\tp dist pair: \t26.365982055664062\n",
      "\ttest\n"
     ]
    },
    {
     "name": "stderr",
     "output_type": "stream",
     "text": [
      "46it [00:17,  2.65it/s]\n"
     ]
    },
    {
     "name": "stdout",
     "output_type": "stream",
     "text": [
      "\ttime: \t17.565930366516113\n",
      "\tcross ent: \t1.753012239933014\n",
      "\tcluster: \t2.9043262626813804\n",
      "\tseparation:\t12.835137673046278\n",
      "\tavg separation:\t27.461534126945164\n",
      "\taccu: \t\t78.7193648602002%\n",
      "\tl1: \t\t10302.90234375\n",
      "\tp dist pair: \t26.365982055664062\n",
      "Test accuracy:  0.787193648602002\n",
      "\tabove 76.00%\n",
      "epoch: \t23\n",
      "\tjoint\n",
      "\ttrain\n"
     ]
    },
    {
     "name": "stderr",
     "output_type": "stream",
     "text": [
      "1405it [15:24,  1.52it/s]\n"
     ]
    },
    {
     "name": "stdout",
     "output_type": "stream",
     "text": [
      "\ttime: \t924.4130697250366\n",
      "\tcross ent: \t0.019660185280113457\n",
      "\tcluster: \t0.030041946213546597\n",
      "\tseparation:\t19.033275571667\n",
      "\tavg separation:\t31.553987108006595\n",
      "\taccu: \t\t99.98998998999%\n",
      "\tl1: \t\t10302.90234375\n",
      "\tp dist pair: \t30.1768798828125\n",
      "\ttest\n"
     ]
    },
    {
     "name": "stderr",
     "output_type": "stream",
     "text": [
      "46it [00:17,  2.69it/s]\n"
     ]
    },
    {
     "name": "stdout",
     "output_type": "stream",
     "text": [
      "\ttime: \t17.304030418395996\n",
      "\tcross ent: \t1.8384615843710692\n",
      "\tcluster: \t3.532467546670333\n",
      "\tseparation:\t15.261504473893538\n",
      "\tavg separation:\t31.130150380341902\n",
      "\taccu: \t\t78.51225405591991%\n",
      "\tl1: \t\t10302.90234375\n",
      "\tp dist pair: \t30.1768798828125\n",
      "Test accuracy:  0.7851225405591992\n",
      "\tabove 76.00%\n",
      "epoch: \t24\n",
      "\tjoint\n",
      "\ttrain\n"
     ]
    },
    {
     "name": "stderr",
     "output_type": "stream",
     "text": [
      "1405it [15:27,  1.52it/s]\n"
     ]
    },
    {
     "name": "stdout",
     "output_type": "stream",
     "text": [
      "\ttime: \t927.578439950943\n",
      "\tcross ent: \t0.020750985849396827\n",
      "\tcluster: \t0.027220674960797792\n",
      "\tseparation:\t21.984906144328814\n",
      "\tavg separation:\t34.70466137543268\n",
      "\taccu: \t\t99.99332665999333%\n",
      "\tl1: \t\t10302.90234375\n",
      "\tp dist pair: \t33.84162139892578\n",
      "\ttest\n"
     ]
    },
    {
     "name": "stderr",
     "output_type": "stream",
     "text": [
      "46it [00:17,  2.61it/s]\n"
     ]
    },
    {
     "name": "stdout",
     "output_type": "stream",
     "text": [
      "\ttime: \t17.820271015167236\n",
      "\tcross ent: \t1.8695558478002963\n",
      "\tcluster: \t4.0299888771513235\n",
      "\tseparation:\t17.526421712792438\n",
      "\tavg separation:\t34.06955038982889\n",
      "\taccu: \t\t78.52951328960994%\n",
      "\tl1: \t\t10302.90234375\n",
      "\tp dist pair: \t33.84162139892578\n",
      "Test accuracy:  0.7852951328960994\n",
      "\tabove 76.00%\n",
      "epoch: \t25\n",
      "\tjoint\n",
      "\ttrain\n"
     ]
    },
    {
     "name": "stderr",
     "output_type": "stream",
     "text": [
      "1405it [15:27,  1.51it/s]\n"
     ]
    },
    {
     "name": "stdout",
     "output_type": "stream",
     "text": [
      "\ttime: \t928.0487377643585\n",
      "\tcross ent: \t0.01799282976475899\n",
      "\tcluster: \t0.020991196190388178\n",
      "\tseparation:\t24.240046093217842\n",
      "\tavg separation:\t36.67074537989932\n",
      "\taccu: \t\t99.99666332999666%\n",
      "\tl1: \t\t10302.90234375\n",
      "\tp dist pair: \t35.664306640625\n",
      "\ttest\n"
     ]
    },
    {
     "name": "stderr",
     "output_type": "stream",
     "text": [
      "46it [00:17,  2.69it/s]\n"
     ]
    },
    {
     "name": "stdout",
     "output_type": "stream",
     "text": [
      "\ttime: \t17.409372806549072\n",
      "\tcross ent: \t1.9463025810925856\n",
      "\tcluster: \t4.487239733986232\n",
      "\tseparation:\t18.759257907452792\n",
      "\tavg separation:\t35.53036407802416\n",
      "\taccu: \t\t78.58129099068%\n",
      "\tl1: \t\t10302.90234375\n",
      "\tp dist pair: \t35.664306640625\n",
      "Test accuracy:  0.7858129099068001\n",
      "\tabove 76.00%\n",
      "epoch: \t26\n",
      "\tjoint\n",
      "\ttrain\n"
     ]
    },
    {
     "name": "stderr",
     "output_type": "stream",
     "text": [
      "1405it [15:29,  1.51it/s]\n"
     ]
    },
    {
     "name": "stdout",
     "output_type": "stream",
     "text": [
      "\ttime: \t929.8788900375366\n",
      "\tcross ent: \t0.01822818226422916\n",
      "\tcluster: \t0.01943254183805498\n",
      "\tseparation:\t25.666421083877943\n",
      "\tavg separation:\t37.813054847038515\n",
      "\taccu: \t\t99.99721944166389%\n",
      "\tl1: \t\t10302.90234375\n",
      "\tp dist pair: \t37.45183181762695\n",
      "\ttest\n"
     ]
    },
    {
     "name": "stderr",
     "output_type": "stream",
     "text": [
      "46it [00:17,  2.68it/s]\n"
     ]
    },
    {
     "name": "stdout",
     "output_type": "stream",
     "text": [
      "\ttime: \t17.385366678237915\n",
      "\tcross ent: \t1.9813822948414346\n",
      "\tcluster: \t4.820735039918319\n",
      "\tseparation:\t19.920073529948358\n",
      "\tavg separation:\t36.80878394582997\n",
      "\taccu: \t\t78.82292026234036%\n",
      "\tl1: \t\t10302.90234375\n",
      "\tp dist pair: \t37.45183181762695\n",
      "Test accuracy:  0.7882292026234036\n",
      "\tabove 76.00%\n",
      "epoch: \t27\n",
      "\tjoint\n",
      "\ttrain\n"
     ]
    },
    {
     "name": "stderr",
     "output_type": "stream",
     "text": [
      "1353it [14:56,  1.51it/s]\n"
     ]
    },
    {
     "ename": "KeyboardInterrupt",
     "evalue": "",
     "output_type": "error",
     "traceback": [
      "\u001b[0;31m---------------------------------------------------------------------------\u001b[0m",
      "\u001b[0;31mKeyboardInterrupt\u001b[0m                         Traceback (most recent call last)",
      "Cell \u001b[0;32mIn[12], line 15\u001b[0m\n\u001b[1;32m     13\u001b[0m     \u001b[38;5;28;01melse\u001b[39;00m:\n\u001b[1;32m     14\u001b[0m         tnt\u001b[38;5;241m.\u001b[39mjoint(model\u001b[38;5;241m=\u001b[39mppnet_multi, log\u001b[38;5;241m=\u001b[39mlog)\n\u001b[0;32m---> 15\u001b[0m         _ \u001b[38;5;241m=\u001b[39m \u001b[43mtnt\u001b[49m\u001b[38;5;241;43m.\u001b[39;49m\u001b[43mtrain\u001b[49m\u001b[43m(\u001b[49m\u001b[43mmodel\u001b[49m\u001b[38;5;241;43m=\u001b[39;49m\u001b[43mppnet_multi\u001b[49m\u001b[43m,\u001b[49m\u001b[43m \u001b[49m\u001b[43mdataloader\u001b[49m\u001b[38;5;241;43m=\u001b[39;49m\u001b[43mtrain_loader\u001b[49m\u001b[43m,\u001b[49m\u001b[43m \u001b[49m\u001b[43moptimizer\u001b[49m\u001b[38;5;241;43m=\u001b[39;49m\u001b[43mjoint_optimizer\u001b[49m\u001b[43m,\u001b[49m\n\u001b[1;32m     16\u001b[0m \u001b[43m                  \u001b[49m\u001b[43mclass_specific\u001b[49m\u001b[38;5;241;43m=\u001b[39;49m\u001b[43mclass_specific\u001b[49m\u001b[43m,\u001b[49m\u001b[43m \u001b[49m\u001b[43mcoefs\u001b[49m\u001b[38;5;241;43m=\u001b[39;49m\u001b[43mcoefs\u001b[49m\u001b[43m,\u001b[49m\u001b[43m \u001b[49m\u001b[43mlog\u001b[49m\u001b[38;5;241;43m=\u001b[39;49m\u001b[43mlog\u001b[49m\u001b[43m)\u001b[49m\n\u001b[1;32m     17\u001b[0m         joint_lr_scheduler\u001b[38;5;241m.\u001b[39mstep()\n\u001b[1;32m     19\u001b[0m \u001b[38;5;66;03m#     accu = tnt.test(model=ppnet_multi, dataloader=test_loader,\u001b[39;00m\n\u001b[1;32m     20\u001b[0m \u001b[38;5;66;03m#                     class_specific=class_specific, log=log)\u001b[39;00m\n\u001b[1;32m     21\u001b[0m \u001b[38;5;66;03m#     save.save_model_w_condition(model=ppnet, model_dir=model_dir, model_name=str(epoch) + 'nopush', accu=accu,\u001b[39;00m\n\u001b[1;32m     22\u001b[0m \u001b[38;5;66;03m#                                 target_accu=0.70, log=log)\u001b[39;00m\n",
      "File \u001b[0;32m~/ProtoPNet/train_and_test.py:133\u001b[0m, in \u001b[0;36mtrain\u001b[0;34m(model, dataloader, optimizer, class_specific, coefs, log)\u001b[0m\n\u001b[1;32m    131\u001b[0m log(\u001b[38;5;124m'\u001b[39m\u001b[38;5;130;01m\\t\u001b[39;00m\u001b[38;5;124mtrain\u001b[39m\u001b[38;5;124m'\u001b[39m)\n\u001b[1;32m    132\u001b[0m model\u001b[38;5;241m.\u001b[39mtrain()\n\u001b[0;32m--> 133\u001b[0m \u001b[38;5;28;01mreturn\u001b[39;00m \u001b[43m_train_or_test\u001b[49m\u001b[43m(\u001b[49m\u001b[43mmodel\u001b[49m\u001b[38;5;241;43m=\u001b[39;49m\u001b[43mmodel\u001b[49m\u001b[43m,\u001b[49m\u001b[43m \u001b[49m\u001b[43mdataloader\u001b[49m\u001b[38;5;241;43m=\u001b[39;49m\u001b[43mdataloader\u001b[49m\u001b[43m,\u001b[49m\u001b[43m \u001b[49m\u001b[43moptimizer\u001b[49m\u001b[38;5;241;43m=\u001b[39;49m\u001b[43moptimizer\u001b[49m\u001b[43m,\u001b[49m\n\u001b[1;32m    134\u001b[0m \u001b[43m                      \u001b[49m\u001b[43mclass_specific\u001b[49m\u001b[38;5;241;43m=\u001b[39;49m\u001b[43mclass_specific\u001b[49m\u001b[43m,\u001b[49m\u001b[43m \u001b[49m\u001b[43mcoefs\u001b[49m\u001b[38;5;241;43m=\u001b[39;49m\u001b[43mcoefs\u001b[49m\u001b[43m,\u001b[49m\u001b[43m \u001b[49m\u001b[43mlog\u001b[49m\u001b[38;5;241;43m=\u001b[39;49m\u001b[43mlog\u001b[49m\u001b[43m)\u001b[49m\n",
      "File \u001b[0;32m~/ProtoPNet/train_and_test.py:46\u001b[0m, in \u001b[0;36m_train_or_test\u001b[0;34m(model, dataloader, optimizer, class_specific, use_l1_mask, coefs, log)\u001b[0m\n\u001b[1;32m     40\u001b[0m max_dist \u001b[38;5;241m=\u001b[39m (model\u001b[38;5;241m.\u001b[39mmodule\u001b[38;5;241m.\u001b[39mprototype_shape[\u001b[38;5;241m1\u001b[39m]\n\u001b[1;32m     41\u001b[0m             \u001b[38;5;241m*\u001b[39m model\u001b[38;5;241m.\u001b[39mmodule\u001b[38;5;241m.\u001b[39mprototype_shape[\u001b[38;5;241m2\u001b[39m]\n\u001b[1;32m     42\u001b[0m             \u001b[38;5;241m*\u001b[39m model\u001b[38;5;241m.\u001b[39mmodule\u001b[38;5;241m.\u001b[39mprototype_shape[\u001b[38;5;241m3\u001b[39m])\n\u001b[1;32m     44\u001b[0m \u001b[38;5;66;03m# prototypes_of_correct_class is a tensor of shape batch_size * num_prototypes\u001b[39;00m\n\u001b[1;32m     45\u001b[0m \u001b[38;5;66;03m# calculate cluster cost\u001b[39;00m\n\u001b[0;32m---> 46\u001b[0m prototypes_of_correct_class \u001b[38;5;241m=\u001b[39m \u001b[43mtorch\u001b[49m\u001b[38;5;241;43m.\u001b[39;49m\u001b[43mt\u001b[49m\u001b[43m(\u001b[49m\u001b[43mmodel\u001b[49m\u001b[38;5;241;43m.\u001b[39;49m\u001b[43mmodule\u001b[49m\u001b[38;5;241;43m.\u001b[39;49m\u001b[43mprototype_class_identity\u001b[49m\u001b[43m[\u001b[49m\u001b[43m:\u001b[49m\u001b[43m,\u001b[49m\u001b[43mlabel\u001b[49m\u001b[43m]\u001b[49m\u001b[43m)\u001b[49m\u001b[38;5;241;43m.\u001b[39;49m\u001b[43mcuda\u001b[49m\u001b[43m(\u001b[49m\u001b[43m)\u001b[49m\n\u001b[1;32m     47\u001b[0m inverted_distances, _ \u001b[38;5;241m=\u001b[39m torch\u001b[38;5;241m.\u001b[39mmax((max_dist \u001b[38;5;241m-\u001b[39m min_distances) \u001b[38;5;241m*\u001b[39m prototypes_of_correct_class, dim\u001b[38;5;241m=\u001b[39m\u001b[38;5;241m1\u001b[39m)\n\u001b[1;32m     48\u001b[0m cluster_cost \u001b[38;5;241m=\u001b[39m torch\u001b[38;5;241m.\u001b[39mmean(max_dist \u001b[38;5;241m-\u001b[39m inverted_distances)\n",
      "\u001b[0;31mKeyboardInterrupt\u001b[0m: "
     ]
    }
   ],
   "source": [
    "for epoch in range(0, 100):\n",
    "    print('epoch: \\t{0}'.format(epoch))\n",
    "\n",
    "    #if epoch in range(0, 10):\n",
    "    #    tnt.joint_warm(model=ppnet_multi, log=log)\n",
    "    #else:\n",
    "    \n",
    "    if epoch in range(0, 5):\n",
    "        tnt.warm_only(model=ppnet_multi, log=log)\n",
    "        _ = tnt.train(model=ppnet_multi, dataloader=train_loader, optimizer=warm_optimizer,\n",
    "                  class_specific=class_specific, coefs=coefs, log=log)\n",
    "        \n",
    "    else:\n",
    "        tnt.joint(model=ppnet_multi, log=log)\n",
    "        _ = tnt.train(model=ppnet_multi, dataloader=train_loader, optimizer=joint_optimizer,\n",
    "                  class_specific=class_specific, coefs=coefs, log=log)\n",
    "        joint_lr_scheduler.step()\n",
    "\n",
    "#     accu = tnt.test(model=ppnet_multi, dataloader=test_loader,\n",
    "#                     class_specific=class_specific, log=log)\n",
    "#     save.save_model_w_condition(model=ppnet, model_dir=model_dir, model_name=str(epoch) + 'nopush', accu=accu,\n",
    "#                                 target_accu=0.70, log=log)\n",
    "\n",
    "    if epoch in push_epochs:\n",
    "        # Only save the model in in push_saved_epochs\n",
    "        if epoch in push_saved_epochs:\n",
    "            bounding_box_tracker = push.push_prototypes(\n",
    "                train_push_loader, # pytorch dataloader (must be unnormalized in [0,1])\n",
    "                prototype_network_parallel=ppnet_multi, # pytorch network with prototype_vectors\n",
    "                class_specific=class_specific,\n",
    "                preprocess_input_function=preprocess_input_function, # normalize if needed\n",
    "                prototype_layer_stride=1,\n",
    "                root_dir_for_saving_prototypes=None, # if not None, prototypes will be saved here\n",
    "                epoch_number=epoch, # if not provided, prototypes saved previously will be overwritten\n",
    "                prototype_img_filename_prefix=None,\n",
    "                prototype_self_act_filename_prefix=None,\n",
    "                proto_bound_boxes_filename_prefix=None,\n",
    "                save_prototype_class_identity=True,\n",
    "                log=log,\n",
    "                bounding_box_tracker=None)\n",
    "            accu = tnt.test(model=ppnet_multi, dataloader=test_loader,\n",
    "                            class_specific=class_specific, log=log)\n",
    "            save.save_model_w_condition(model=ppnet, model_dir=model_dir, model_name=str(epoch) + 'push', accu=accu,\n",
    "                                        target_accu=0.76, log=log)\n",
    "\n",
    "           \n",
    "\n",
    "        if prototype_activation_function != 'linear':\n",
    "            tnt.last_only(model=ppnet_multi, log=log)\n",
    "            # Fine tune the last layers\n",
    "            for i in range(8):\n",
    "                log('iteration: \\t{0}'.format(i))\n",
    "                _ = tnt.train(model=ppnet_multi, dataloader=train_loader, optimizer=last_layer_optimizer,\n",
    "                              class_specific=class_specific, coefs=coefs, log=log)\n",
    "                accu = tnt.test(model=ppnet_multi, dataloader=test_loader,\n",
    "                    class_specific=class_specific, log=log)\n",
    "                print(\"Test accuracy: \", accu)\n",
    "                save.save_model_w_condition(model=ppnet, model_dir=model_dir, model_name=str(epoch) + '_' + str(i) + 'push', accu=accu,\n",
    "                                target_accu=0.76, log=log)\n",
    "            \n",
    "            save.save_model_w_condition(model=ppnet, model_dir=model_dir, model_name=str(epoch) + '_' + str(i) + 'push', accu=accu,\n",
    "                                target_accu=0.76, log=log)\n",
    "            # Save the last with the final layer fine-tuned\n",
    "        \n",
    "    accu = tnt.test(model=ppnet_multi, dataloader=test_loader,\n",
    "                    class_specific=class_specific, log=log)\n",
    "    print(\"Test accuracy: \", accu)\n",
    "    save.save_model_w_condition(model=ppnet, model_dir=model_dir, model_name=str(epoch), accu=accu,\n",
    "                                target_accu=0.76, log=log)"
   ]
  },
  {
   "cell_type": "code",
   "execution_count": null,
   "id": "57cfcee4-9274-4efb-8cdf-995a4189de6a",
   "metadata": {},
   "outputs": [],
   "source": []
  }
 ],
 "metadata": {
  "kernelspec": {
   "display_name": "Python 3 (ipykernel)",
   "language": "python",
   "name": "python3"
  },
  "language_info": {
   "codemirror_mode": {
    "name": "ipython",
    "version": 3
   },
   "file_extension": ".py",
   "mimetype": "text/x-python",
   "name": "python",
   "nbconvert_exporter": "python",
   "pygments_lexer": "ipython3",
   "version": "3.11.0"
  }
 },
 "nbformat": 4,
 "nbformat_minor": 5
}
