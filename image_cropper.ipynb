{
 "cells": [
  {
   "cell_type": "code",
   "execution_count": 1,
   "id": "758064f3",
   "metadata": {},
   "outputs": [],
   "source": [
    "from PIL import Image\n",
    "import matplotlib.pyplot as plt\n",
    "import os.path, sys\n",
    "import os"
   ]
  },
  {
   "cell_type": "code",
   "execution_count": 8,
   "id": "551903f3",
   "metadata": {},
   "outputs": [],
   "source": [
    "old_path = 'stanford-car-dataset-by-classes-folder/car_data/car_data/train'\n",
    "new_path = 'stanford_cars_cropped/'\n",
    "old_dirs = os.listdir(new_path)"
   ]
  },
  {
   "cell_type": "code",
   "execution_count": 9,
   "id": "244f9816",
   "metadata": {},
   "outputs": [
    {
     "ename": "FileNotFoundError",
     "evalue": "[Errno 2] No such file or directory: 'ProtoPNet/stanford-car-dataset-by-classes-folder/anno_train.csv'",
     "output_type": "error",
     "traceback": [
      "\u001b[0;31m---------------------------------------------------------------------------\u001b[0m",
      "\u001b[0;31mFileNotFoundError\u001b[0m                         Traceback (most recent call last)",
      "Cell \u001b[0;32mIn[9], line 2\u001b[0m\n\u001b[1;32m      1\u001b[0m image_dict \u001b[38;5;241m=\u001b[39m {}\n\u001b[0;32m----> 2\u001b[0m \u001b[38;5;28;01mwith\u001b[39;00m \u001b[38;5;28;43mopen\u001b[39;49m\u001b[43m(\u001b[49m\u001b[38;5;124;43m\"\u001b[39;49m\u001b[38;5;124;43mProtoPNet/stanford-car-dataset-by-classes-folder/anno_train.csv\u001b[39;49m\u001b[38;5;124;43m\"\u001b[39;49m\u001b[43m)\u001b[49m \u001b[38;5;28;01mas\u001b[39;00m file:\n\u001b[1;32m      3\u001b[0m     \u001b[38;5;28;01mfor\u001b[39;00m line \u001b[38;5;129;01min\u001b[39;00m file:\n\u001b[1;32m      4\u001b[0m         (image_id, loc) \u001b[38;5;241m=\u001b[39m line\u001b[38;5;241m.\u001b[39msplit()\n",
      "File \u001b[0;32m/usr/local/linux/mambaforge-3.11/lib/python3.11/site-packages/IPython/core/interactiveshell.py:282\u001b[0m, in \u001b[0;36m_modified_open\u001b[0;34m(file, *args, **kwargs)\u001b[0m\n\u001b[1;32m    275\u001b[0m \u001b[38;5;28;01mif\u001b[39;00m file \u001b[38;5;129;01min\u001b[39;00m {\u001b[38;5;241m0\u001b[39m, \u001b[38;5;241m1\u001b[39m, \u001b[38;5;241m2\u001b[39m}:\n\u001b[1;32m    276\u001b[0m     \u001b[38;5;28;01mraise\u001b[39;00m \u001b[38;5;167;01mValueError\u001b[39;00m(\n\u001b[1;32m    277\u001b[0m         \u001b[38;5;124mf\u001b[39m\u001b[38;5;124m\"\u001b[39m\u001b[38;5;124mIPython won\u001b[39m\u001b[38;5;124m'\u001b[39m\u001b[38;5;124mt let you open fd=\u001b[39m\u001b[38;5;132;01m{\u001b[39;00mfile\u001b[38;5;132;01m}\u001b[39;00m\u001b[38;5;124m by default \u001b[39m\u001b[38;5;124m\"\u001b[39m\n\u001b[1;32m    278\u001b[0m         \u001b[38;5;124m\"\u001b[39m\u001b[38;5;124mas it is likely to crash IPython. If you know what you are doing, \u001b[39m\u001b[38;5;124m\"\u001b[39m\n\u001b[1;32m    279\u001b[0m         \u001b[38;5;124m\"\u001b[39m\u001b[38;5;124myou can use builtins\u001b[39m\u001b[38;5;124m'\u001b[39m\u001b[38;5;124m open.\u001b[39m\u001b[38;5;124m\"\u001b[39m\n\u001b[1;32m    280\u001b[0m     )\n\u001b[0;32m--> 282\u001b[0m \u001b[38;5;28;01mreturn\u001b[39;00m \u001b[43mio_open\u001b[49m\u001b[43m(\u001b[49m\u001b[43mfile\u001b[49m\u001b[43m,\u001b[49m\u001b[43m \u001b[49m\u001b[38;5;241;43m*\u001b[39;49m\u001b[43margs\u001b[49m\u001b[43m,\u001b[49m\u001b[43m \u001b[49m\u001b[38;5;241;43m*\u001b[39;49m\u001b[38;5;241;43m*\u001b[39;49m\u001b[43mkwargs\u001b[49m\u001b[43m)\u001b[49m\n",
      "\u001b[0;31mFileNotFoundError\u001b[0m: [Errno 2] No such file or directory: 'ProtoPNet/stanford-car-dataset-by-classes-folder/anno_train.csv'"
     ]
    }
   ],
   "source": [
    "image_dict = {}\n",
    "with open(\"ProtoPNet/stanford-car-dataset-by-classes-folder/anno_train.csv\") as file:\n",
    "    for line in file:\n",
    "        (image_id, loc) = line.split()\n",
    "        image_dict[image_id] = loc\n",
    "#print(len(image_dict))        "
   ]
  },
  {
   "cell_type": "code",
   "execution_count": 17,
   "id": "96ee8194",
   "metadata": {},
   "outputs": [],
   "source": [
    "with open(\"/Users/macbook/Desktop/Research/Berkeley Yu Group/Datasets/CUB_200_2011/bounding_boxes.txt\") as file:\n",
    "    for line in file:\n",
    "        (image_id, x, y, width, height) = line.split()\n",
    "        im = Image.open(new_path + image_dict[image_id])\n",
    "        im_cropped = im.crop((int(float(x)), int(float(y)), int(float(x))+int(float(width)), int(float(y))+int(float(height))))\n",
    "        im_cropped.save(new_path + image_dict[image_id])"
   ]
  },
  {
   "cell_type": "code",
   "execution_count": 28,
   "id": "b300c0e8",
   "metadata": {},
   "outputs": [],
   "source": [
    "train_dir = \"/Users/macbook/Desktop/Research/Berkeley Yu Group/Datasets/CUB_200_2011_cropped/train_cropped/\"\n",
    "test_dir = \"/Users/macbook/Desktop/Research/Berkeley Yu Group/Datasets/CUB_200_2011_cropped/test_cropped/\"\n",
    "#with open(\"/Users/macbook/Desktop/Research/Berkeley Yu Group/Datasets/CUB_200_2011/train_test_split.txt\") as file:\n",
    "#    for line in file:\n",
    "#        (image_id, is_train) = line.split()\n",
    "#        if int(is_train) == 0:\n",
    "#            os.remove(train_dir + image_dict[image_id])\n",
    "#        elif int(is_train) == 1:\n",
    "#            os.remove(test_dir + image_dict[image_id])\n",
    "            "
   ]
  },
  {
   "cell_type": "code",
   "execution_count": null,
   "id": "8dee8432",
   "metadata": {},
   "outputs": [],
   "source": []
  }
 ],
 "metadata": {
  "kernelspec": {
   "display_name": "Python 3 (ipykernel)",
   "language": "python",
   "name": "python3"
  },
  "language_info": {
   "codemirror_mode": {
    "name": "ipython",
    "version": 3
   },
   "file_extension": ".py",
   "mimetype": "text/x-python",
   "name": "python",
   "nbconvert_exporter": "python",
   "pygments_lexer": "ipython3",
   "version": "3.11.0"
  }
 },
 "nbformat": 4,
 "nbformat_minor": 5
}
