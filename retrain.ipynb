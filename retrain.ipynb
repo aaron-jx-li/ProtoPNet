{
 "cells": [
  {
   "cell_type": "code",
   "execution_count": 15,
   "id": "11c90d99-9867-4fea-b7c0-2407dd0afd44",
   "metadata": {},
   "outputs": [],
   "source": [
    "import os\n",
    "import shutil\n",
    "\n",
    "import torch\n",
    "import torch.utils.data\n",
    "import pandas as pd\n",
    "# import torch.utils.data.distributed\n",
    "import torchvision.transforms as transforms\n",
    "import torchvision.datasets as datasets\n",
    "\n",
    "import argparse\n",
    "import re\n",
    "\n",
    "from helpers import makedir\n",
    "import model\n",
    "import push\n",
    "import prune\n",
    "import train_and_test as tnt\n",
    "import save\n",
    "from log import create_logger\n",
    "from preprocess import mean, std, preprocess_input_function\n",
    "\n",
    "from bounding_box_metrics import bounding_box_overlap\n",
    "from find_nearest import find_k_nearest_patches_to_prototypes\n",
    "from settings import coefs, img_size\n",
    "from settings import num_train_epochs, num_warm_epochs, push_start, push_epochs, push_saved_epochs"
   ]
  },
  {
   "cell_type": "code",
   "execution_count": 14,
   "id": "1f0a32a5-4dfb-4cf4-bf27-5d0e26b7267d",
   "metadata": {},
   "outputs": [],
   "source": [
    "from settings import train_dir, test_dir, train_push_dir\n",
    "from settings import last_layer_optimizer_lr\n",
    "last_layer_optimizer_specs = [{'params': ppnet.last_layer.parameters(), 'lr': last_layer_optimizer_lr}]\n",
    "last_layer_optimizer = torch.optim.Adam(last_layer_optimizer_specs)\n",
    "train_batch_size, test_batch_size, train_push_batch_size = 120, 120, 120\n",
    "push_epochs = [20, 50, 70, 100]\n",
    "push_saved_epochs = [20, 50, 70, 100]\n",
    "normalize = transforms.Normalize(mean=mean,\n",
    "                                 std=std)\n",
    "train_dataset = datasets.ImageFolder(\n",
    "        train_dir,\n",
    "        transforms.Compose([\n",
    "        transforms.Resize(size=(img_size, img_size)),\n",
    "        transforms.ToTensor(),\n",
    "        normalize,\n",
    "]))\n",
    "\n",
    "train_loader = torch.utils.data.DataLoader(\n",
    "    train_dataset, batch_size=train_batch_size, shuffle=True,\n",
    "    num_workers=2, pin_memory=False)\n",
    "\n",
    "# push set\n",
    "train_push_dataset = datasets.ImageFolder(\n",
    "    train_push_dir,\n",
    "    transforms.Compose([\n",
    "        transforms.Resize(size=(img_size, img_size)),\n",
    "        transforms.ToTensor(),\n",
    "]))\n",
    "\n",
    "train_push_loader = torch.utils.data.DataLoader(\n",
    "    train_push_dataset, batch_size=train_push_batch_size, shuffle=False,\n",
    "    num_workers=2, pin_memory=False)\n",
    "\n",
    "# test set\n",
    "test_dataset = datasets.ImageFolder(\n",
    "    test_dir,\n",
    "    transforms.Compose([\n",
    "        transforms.Resize(size=(img_size, img_size)),\n",
    "        transforms.ToTensor(),\n",
    "        normalize,\n",
    "]))\n",
    "\n",
    "test_loader = torch.utils.data.DataLoader(\n",
    "    test_dataset, batch_size=test_batch_size, shuffle=False,\n",
    "    num_workers=2, pin_memory=False)"
   ]
  },
  {
   "cell_type": "code",
   "execution_count": 8,
   "id": "39b9a1e8-2260-45a3-8b07-9d22ac4a0a8a",
   "metadata": {},
   "outputs": [],
   "source": [
    "ppnet = torch.load(r'/scratch/users/jiaxun1218/saved_models/resnet34/r2_014.pth')\n",
    "ppnet_multi = torch.nn.DataParallel(ppnet).cuda()\n",
    "#ppnet = torch.nn.DataParallel(ppnet)\n",
    "class_specific = True"
   ]
  },
  {
   "cell_type": "code",
   "execution_count": 10,
   "id": "4a54b5b8-0446-45e2-9395-f741587ab44d",
   "metadata": {},
   "outputs": [],
   "source": [
    "from settings import joint_optimizer_lrs, joint_lr_step_size\n",
    "joint_optimizer_specs = \\\n",
    "[{'params': ppnet_multi.module.features.parameters(), 'lr': 1e-4, 'weight_decay': 1e-4}, # bias are now also being regularized\n",
    " {'params': ppnet_multi.module.add_on_layers.parameters(), 'lr': 1e-4, 'weight_decay': 1e-4},\n",
    " {'params': ppnet_multi.module.prototype_vectors, 'lr': 1e-4, 'weight_decay': 1e-4},\n",
    "]\n",
    "joint_optimizer = torch.optim.Adam(joint_optimizer_specs)\n",
    "joint_lr_scheduler = torch.optim.lr_scheduler.StepLR(joint_optimizer, step_size=3, gamma=0.1)\n",
    "train_batch_size, test_batch_size, train_push_batch_size = 128, 128, 128\n",
    "prototype_activation_function = 'log'"
   ]
  },
  {
   "cell_type": "code",
   "execution_count": 17,
   "id": "cc8145ee-2cad-46fd-ad26-2a31f6f25e03",
   "metadata": {
    "tags": []
   },
   "outputs": [],
   "source": [
    "'''\n",
    "Start from scratch\n",
    "'''\n",
    "from settings import joint_optimizer_lrs, joint_lr_step_size\n",
    "from settings import base_architecture, img_size, prototype_shape, num_classes, \\\n",
    "                     prototype_activation_function, add_on_layers_type, experiment_run\n",
    "base_architecture = 'resnet34'\n",
    "prototype_shape = (2000, 256, 1, 1)\n",
    "ppnet = model.construct_PPNet(base_architecture=base_architecture,\n",
    "                              pretrained=True, img_size=img_size,\n",
    "                              prototype_shape=prototype_shape,\n",
    "                              num_classes=num_classes,\n",
    "                              prototype_activation_function=prototype_activation_function,\n",
    "                              add_on_layers_type=add_on_layers_type)\n",
    "#if prototype_activation_function == 'linear':\n",
    "#    ppnet.set_last_layer_incorrect_connection(incorrect_strength=0)\n",
    "ppnet = ppnet.cuda()\n",
    "ppnet_multi = torch.nn.DataParallel(ppnet)\n",
    "class_specific = True\n",
    "from settings import joint_optimizer_lrs, joint_lr_step_size\n",
    "joint_optimizer_specs = \\\n",
    "[{'params': ppnet_multi.module.features.parameters(), 'lr': joint_optimizer_lrs['features'], 'weight_decay': 1e-3}, # bias are now also being regularized\n",
    " {'params': ppnet_multi.module.add_on_layers.parameters(), 'lr': joint_optimizer_lrs['add_on_layers'], 'weight_decay': 1e-3},\n",
    " {'params': ppnet_multi.module.prototype_vectors, 'lr': joint_optimizer_lrs['prototype_vectors']},\n",
    "]\n",
    "joint_optimizer = torch.optim.Adam(joint_optimizer_specs)\n",
    "joint_lr_scheduler = torch.optim.lr_scheduler.StepLR(joint_optimizer, step_size=joint_lr_step_size, gamma=0.5)\n",
    "prototype_activation_function = 'log'"
   ]
  },
  {
   "cell_type": "code",
   "execution_count": 11,
   "id": "34bb08ab-6316-4ae0-b396-a770655ed6c4",
   "metadata": {},
   "outputs": [],
   "source": [
    "model_dir = '/scratch/users/jiaxun1218/saved_models/resnet34/'\n",
    "makedir(model_dir)\n",
    "log, logclose = create_logger(log_filename=os.path.join(model_dir, 'train.log'))\n",
    "\n",
    "push_epochs = [30, 50, 99]\n",
    "push_saved_epochs = [30, 50, 99]"
   ]
  },
  {
   "cell_type": "code",
   "execution_count": null,
   "id": "da167739-7b3f-4a4b-8965-eeeed7eeb1ab",
   "metadata": {
    "tags": []
   },
   "outputs": [
    {
     "name": "stdout",
     "output_type": "stream",
     "text": [
      "epoch: \t0\n",
      "\tjoint\n",
      "\ttrain\n"
     ]
    },
    {
     "name": "stderr",
     "output_type": "stream",
     "text": [
      "1499it [08:18,  3.01it/s]\n"
     ]
    },
    {
     "name": "stdout",
     "output_type": "stream",
     "text": [
      "\ttime: \t499.2157759666443\n",
      "\tcross ent: \t0.09301090578494557\n",
      "\tcluster: \t0.0328410022287537\n",
      "\tseparation:\t0.1893728561450872\n",
      "\tavg separation:\t4.103647775535507\n",
      "\taccu: \t\t97.55255255255256%\n",
      "\tl1: \t\t201000.0\n",
      "\tp dist pair: \t7.582414150238037\n",
      "\ttest\n"
     ]
    },
    {
     "name": "stderr",
     "output_type": "stream",
     "text": [
      "49it [00:15,  3.17it/s]\n"
     ]
    },
    {
     "name": "stdout",
     "output_type": "stream",
     "text": [
      "\ttime: \t15.615715026855469\n",
      "\tcross ent: \t1.5259946499552046\n",
      "\tcluster: \t0.11866801422165364\n",
      "\tseparation:\t0.15300414848084354\n",
      "\tavg separation:\t3.967268778353321\n",
      "\taccu: \t\t70.22782188470832%\n",
      "\tl1: \t\t201000.0\n",
      "\tp dist pair: \t7.582414150238037\n",
      "Test accuracy:  0.7022782188470832\n",
      "epoch: \t1\n",
      "\tjoint\n",
      "\ttrain\n"
     ]
    },
    {
     "name": "stderr",
     "output_type": "stream",
     "text": [
      "1499it [08:28,  2.95it/s]\n"
     ]
    },
    {
     "name": "stdout",
     "output_type": "stream",
     "text": [
      "\ttime: \t508.9400553703308\n",
      "\tcross ent: \t0.05910449005917194\n",
      "\tcluster: \t0.025506318680410228\n",
      "\tseparation:\t0.18606568195964593\n",
      "\tavg separation:\t3.9403770701578256\n",
      "\taccu: \t\t98.42676009342675%\n",
      "\tl1: \t\t201000.0\n",
      "\tp dist pair: \t7.264782905578613\n",
      "\ttest\n"
     ]
    },
    {
     "name": "stderr",
     "output_type": "stream",
     "text": [
      "49it [00:15,  3.20it/s]\n"
     ]
    },
    {
     "name": "stdout",
     "output_type": "stream",
     "text": [
      "\ttime: \t15.691144466400146\n",
      "\tcross ent: \t1.4428664664832913\n",
      "\tcluster: \t0.11277881105031286\n",
      "\tseparation:\t0.1569143927523068\n",
      "\tavg separation:\t3.808889320918492\n",
      "\taccu: \t\t72.38522609596134%\n",
      "\tl1: \t\t201000.0\n",
      "\tp dist pair: \t7.264782905578613\n",
      "Test accuracy:  0.7238522609596134\n",
      "epoch: \t2\n",
      "\tjoint\n",
      "\ttrain\n"
     ]
    },
    {
     "name": "stderr",
     "output_type": "stream",
     "text": [
      "1499it [08:18,  3.01it/s]\n"
     ]
    },
    {
     "name": "stdout",
     "output_type": "stream",
     "text": [
      "\ttime: \t498.98002314567566\n",
      "\tcross ent: \t0.0470308025474615\n",
      "\tcluster: \t0.02162777987110607\n",
      "\tseparation:\t0.19038645950971722\n",
      "\tavg separation:\t3.572617657905105\n",
      "\taccu: \t\t98.76988099210321%\n",
      "\tl1: \t\t201000.0\n",
      "\tp dist pair: \t7.464593887329102\n",
      "\ttest\n"
     ]
    },
    {
     "name": "stderr",
     "output_type": "stream",
     "text": [
      "49it [00:15,  3.19it/s]\n"
     ]
    },
    {
     "name": "stdout",
     "output_type": "stream",
     "text": [
      "\ttime: \t15.639282941818237\n",
      "\tcross ent: \t1.434429293992568\n",
      "\tcluster: \t0.10671873763203621\n",
      "\tseparation:\t0.15109529483075046\n",
      "\tavg separation:\t3.00745989838425\n",
      "\taccu: \t\t71.93648602002071%\n",
      "\tl1: \t\t201000.0\n",
      "\tp dist pair: \t7.464593887329102\n",
      "Test accuracy:  0.7193648602002071\n",
      "epoch: \t3\n",
      "\tjoint\n",
      "\ttrain\n"
     ]
    },
    {
     "name": "stderr",
     "output_type": "stream",
     "text": [
      "1499it [08:22,  2.98it/s]\n"
     ]
    },
    {
     "name": "stdout",
     "output_type": "stream",
     "text": [
      "\ttime: \t502.66923451423645\n",
      "\tcross ent: \t0.005579702288379001\n",
      "\tcluster: \t0.012881534829551853\n",
      "\tseparation:\t0.21432932439925592\n",
      "\tavg separation:\t3.1121532419190716\n",
      "\taccu: \t\t99.87987987987988%\n",
      "\tl1: \t\t201000.0\n",
      "\tp dist pair: \t7.515518665313721\n",
      "\ttest\n"
     ]
    },
    {
     "name": "stderr",
     "output_type": "stream",
     "text": [
      "49it [00:15,  3.13it/s]\n"
     ]
    },
    {
     "name": "stdout",
     "output_type": "stream",
     "text": [
      "\ttime: \t15.856647729873657\n",
      "\tcross ent: \t1.2371226123401098\n",
      "\tcluster: \t0.10272008439107817\n",
      "\tseparation:\t0.18674197367259435\n",
      "\tavg separation:\t3.1773139214029116\n",
      "\taccu: \t\t76.13047980669658%\n",
      "\tl1: \t\t201000.0\n",
      "\tp dist pair: \t7.515518665313721\n",
      "Test accuracy:  0.7613047980669658\n",
      "epoch: \t4\n",
      "\tjoint\n",
      "\ttrain\n"
     ]
    },
    {
     "name": "stderr",
     "output_type": "stream",
     "text": [
      "1499it [08:27,  2.95it/s]\n"
     ]
    },
    {
     "name": "stdout",
     "output_type": "stream",
     "text": [
      "\ttime: \t507.51051330566406\n",
      "\tcross ent: \t0.0007719358820117544\n",
      "\tcluster: \t0.009478704108259553\n",
      "\tseparation:\t0.2669762259845021\n",
      "\tavg separation:\t3.38395884643005\n",
      "\taccu: \t\t99.994994994995%\n",
      "\tl1: \t\t201000.0\n",
      "\tp dist pair: \t7.5808210372924805\n",
      "\ttest\n"
     ]
    },
    {
     "name": "stderr",
     "output_type": "stream",
     "text": [
      "49it [00:15,  3.16it/s]\n"
     ]
    },
    {
     "name": "stdout",
     "output_type": "stream",
     "text": [
      "\ttime: \t15.738267660140991\n",
      "\tcross ent: \t1.2639934378010886\n",
      "\tcluster: \t0.12754193092791402\n",
      "\tseparation:\t0.239099633632874\n",
      "\tavg separation:\t3.606801378483675\n",
      "\taccu: \t\t76.45840524680703%\n",
      "\tl1: \t\t201000.0\n",
      "\tp dist pair: \t7.5808210372924805\n",
      "Test accuracy:  0.7645840524680704\n",
      "epoch: \t5\n",
      "\tjoint\n",
      "\ttrain\n"
     ]
    },
    {
     "name": "stderr",
     "output_type": "stream",
     "text": [
      "1499it [08:30,  2.94it/s]\n"
     ]
    },
    {
     "name": "stdout",
     "output_type": "stream",
     "text": [
      "\ttime: \t510.78336215019226\n",
      "\tcross ent: \t0.0005103944300539275\n",
      "\tcluster: \t0.007808296216789725\n",
      "\tseparation:\t0.3311720712730454\n",
      "\tavg separation:\t3.8892710870548117\n",
      "\taccu: \t\t99.99721944166389%\n",
      "\tl1: \t\t201000.0\n",
      "\tp dist pair: \t7.619817733764648\n",
      "\ttest\n"
     ]
    },
    {
     "name": "stderr",
     "output_type": "stream",
     "text": [
      "49it [00:15,  3.17it/s]\n"
     ]
    },
    {
     "name": "stdout",
     "output_type": "stream",
     "text": [
      "\ttime: \t15.75843358039856\n",
      "\tcross ent: \t1.3494512402281469\n",
      "\tcluster: \t0.18452609756163188\n",
      "\tseparation:\t0.32843781171404585\n",
      "\tavg separation:\t4.153429469283746\n",
      "\taccu: \t\t74.88781498101484%\n",
      "\tl1: \t\t201000.0\n",
      "\tp dist pair: \t7.619817733764648\n",
      "Test accuracy:  0.7488781498101484\n",
      "epoch: \t6\n",
      "\tjoint\n",
      "\ttrain\n"
     ]
    },
    {
     "name": "stderr",
     "output_type": "stream",
     "text": [
      "1499it [08:44,  2.86it/s]\n"
     ]
    },
    {
     "name": "stdout",
     "output_type": "stream",
     "text": [
      "\ttime: \t524.2636785507202\n",
      "\tcross ent: \t0.0002955712004160239\n",
      "\tcluster: \t0.006843575441388487\n",
      "\tseparation:\t0.3738470971783135\n",
      "\tavg separation:\t4.184563363210769\n",
      "\taccu: \t\t99.99833166499833%\n",
      "\tl1: \t\t201000.0\n",
      "\tp dist pair: \t7.620518207550049\n",
      "\ttest\n"
     ]
    },
    {
     "name": "stderr",
     "output_type": "stream",
     "text": [
      "49it [00:15,  3.09it/s]\n"
     ]
    },
    {
     "name": "stdout",
     "output_type": "stream",
     "text": [
      "\ttime: \t16.080308198928833\n",
      "\tcross ent: \t1.3717252539128673\n",
      "\tcluster: \t0.20051757778440202\n",
      "\tseparation:\t0.3497306993421243\n",
      "\tavg separation:\t4.244123624295605\n",
      "\taccu: \t\t74.85329651363479%\n",
      "\tl1: \t\t201000.0\n",
      "\tp dist pair: \t7.620518207550049\n",
      "Test accuracy:  0.7485329651363479\n",
      "epoch: \t7\n",
      "\tjoint\n",
      "\ttrain\n"
     ]
    },
    {
     "name": "stderr",
     "output_type": "stream",
     "text": [
      "878it [04:52,  2.70it/s]"
     ]
    }
   ],
   "source": [
    "for epoch in range(0, 60):\n",
    "    print('epoch: \\t{0}'.format(epoch))\n",
    "\n",
    "    #if epoch in range(0, 5):\n",
    "    #    tnt.joint_warm(model=ppnet_multi, log=log)\n",
    "    #else:\n",
    "    \n",
    "    #if epoch in range(0, 5):\n",
    "    #    tnt.warm_only(model=ppnet_multi, log=log)\n",
    "    #else:\n",
    "    tnt.joint(model=ppnet_multi, log=log)\n",
    "    \n",
    "    _ = tnt.train(model=ppnet_multi, dataloader=train_loader, optimizer=joint_optimizer,\n",
    "                  class_specific=class_specific, coefs=coefs, log=log)\n",
    "    joint_lr_scheduler.step()\n",
    "\n",
    "#     accu = tnt.test(model=ppnet_multi, dataloader=test_loader,\n",
    "#                     class_specific=class_specific, log=log)\n",
    "#     save.save_model_w_condition(model=ppnet, model_dir=model_dir, model_name=str(epoch) + 'nopush', accu=accu,\n",
    "#                                 target_accu=0.70, log=log)\n",
    "\n",
    "    if epoch >= push_start and epoch in push_epochs:\n",
    "        # Only save the model in in push_saved_epochs\n",
    "        if epoch in push_saved_epochs:\n",
    "            bounding_box_tracker = push.push_prototypes(\n",
    "                train_push_loader, # pytorch dataloader (must be unnormalized in [0,1])\n",
    "                prototype_network_parallel=ppnet_multi, # pytorch network with prototype_vectors\n",
    "                class_specific=class_specific,\n",
    "                preprocess_input_function=preprocess_input_function, # normalize if needed\n",
    "                prototype_layer_stride=1,\n",
    "                root_dir_for_saving_prototypes=None, # if not None, prototypes will be saved here\n",
    "                epoch_number=epoch, # if not provided, prototypes saved previously will be overwritten\n",
    "                prototype_img_filename_prefix=None,\n",
    "                prototype_self_act_filename_prefix=None,\n",
    "                proto_bound_boxes_filename_prefix=None,\n",
    "                save_prototype_class_identity=True,\n",
    "                log=log,\n",
    "                bounding_box_tracker=None)\n",
    "            accu = tnt.test(model=ppnet_multi, dataloader=test_loader,\n",
    "                            class_specific=class_specific, log=log)\n",
    "            save.save_model_w_condition(model=ppnet, model_dir=model_dir, model_name=str(epoch) + 'push', accu=accu,\n",
    "                                        target_accu=0.75, log=log)\n",
    "\n",
    "            # updated bounding_box_tracker is used  \n",
    "            #overlap = bounding_box_overlap(bounding_box_tracker, prototype_shape[0], num_classes)\n",
    "            #overlaps[\"epoch\"].append(epoch)\n",
    "            #overlaps[\"overlap\"].append(overlap)   \n",
    "\n",
    "            #pd.DataFrame(overlaps).to_csv(model_dir + \"overlap_\" + str(epoch) + \".csv\")\n",
    "\n",
    "        else:\n",
    "            bounding_box_tracker = push.push_prototypes(\n",
    "                train_push_loader, # pytorch dataloader (must be unnormalized in [0,1])\n",
    "                prototype_network_parallel=ppnet_multi, # pytorch network with prototype_vectors\n",
    "                class_specific=class_specific,\n",
    "                preprocess_input_function=preprocess_input_function, # normalize if needed\n",
    "                prototype_layer_stride=1,\n",
    "                root_dir_for_saving_prototypes=None, # if not None, prototypes will be saved here\n",
    "                epoch_number=epoch, # if not provided, prototypes saved previously will be overwritten\n",
    "                prototype_img_filename_prefix=None,\n",
    "                prototype_self_act_filename_prefix=None,\n",
    "                proto_bound_boxes_filename_prefix=None,\n",
    "                save_prototype_class_identity=True,\n",
    "                log=log,\n",
    "                bounding_box_tracker=None)\n",
    "#             accu = tnt.test(model=ppnet_multi, dataloader=test_loader,\n",
    "#                             class_specific=class_specific, log=log)\n",
    "#             save.save_model_w_condition(model=ppnet, model_dir=model_dir, model_name=str(epoch) + 'push', accu=accu,\n",
    "#                                         target_accu=0.70, log=log)\n",
    "\n",
    "            #overlap = bounding_box_overlap(bounding_box_tracker, prototype_shape[0], num_classes)\n",
    "            #overlaps[\"epoch\"].append(epoch)\n",
    "            #overlaps[\"overlap\"].append(overlap)\n",
    "\n",
    "        if prototype_activation_function != 'linear':\n",
    "            tnt.last_only(model=ppnet_multi, log=log)\n",
    "            # Fine tune the last layers\n",
    "            for i in range(8):\n",
    "                log('iteration: \\t{0}'.format(i))\n",
    "                _ = tnt.train(model=ppnet_multi, dataloader=train_loader, optimizer=last_layer_optimizer,\n",
    "                              class_specific=class_specific, coefs=coefs, log=log)\n",
    "                accu = tnt.test(model=ppnet_multi, dataloader=test_loader,\n",
    "                    class_specific=class_specific, log=log)\n",
    "                print(\"Test accuracy: \", accu)\n",
    "                save.save_model_w_condition(model=ppnet, model_dir=model_dir, model_name=str(epoch) + '_' + str(i) + 'push', accu=accu,\n",
    "                                target_accu=0.77, log=log)\n",
    "            # Save the last with the final layer fine-tuned\n",
    "        \n",
    "    accu = tnt.test(model=ppnet_multi, dataloader=test_loader,\n",
    "                    class_specific=class_specific, log=log)\n",
    "    print(\"Test accuracy: \", accu)\n",
    "    save.save_model_w_condition(model=ppnet, model_dir=model_dir, model_name=str(epoch), accu=accu,\n",
    "                                target_accu=0.77, log=log)"
   ]
  },
  {
   "cell_type": "code",
   "execution_count": 9,
   "id": "50fc4634-f69c-4e09-ba67-9dc53e80aaaf",
   "metadata": {},
   "outputs": [],
   "source": [
    "torch.save(ppnet_multi.module, r'./scratch/users/jiaxun1218/saved_models/densenet121/r3_0.75.pth')"
   ]
  },
  {
   "cell_type": "code",
   "execution_count": 10,
   "id": "565681a4-2d0d-4595-a98e-7e90cfeda155",
   "metadata": {},
   "outputs": [
    {
     "name": "stdout",
     "output_type": "stream",
     "text": [
      "\ttest\n"
     ]
    },
    {
     "name": "stderr",
     "output_type": "stream",
     "text": [
      "46it [00:17,  2.67it/s]\n"
     ]
    },
    {
     "name": "stdout",
     "output_type": "stream",
     "text": [
      "\ttime: \t17.44526433944702\n",
      "\tcross ent: \t1.3075031968562498\n",
      "\tcluster: \t0.055004217135517494\n",
      "\tseparation:\t0.09643075874318248\n",
      "\tavg separation:\t3.4655522833699766\n",
      "\taccu: \t\t74.05937176389368%\n",
      "\tl1: \t\t201000.0\n",
      "\tp dist pair: \t5.022886276245117\n"
     ]
    }
   ],
   "source": [
    "acc = tnt.test(model=ppnet_multi, dataloader=test_loader, class_specific=True, log=print)"
   ]
  },
  {
   "cell_type": "code",
   "execution_count": null,
   "id": "4095f075-1f3c-4044-b3b7-d4c4dbd1fc44",
   "metadata": {},
   "outputs": [],
   "source": []
  }
 ],
 "metadata": {
  "kernelspec": {
   "display_name": "Python 3 (ipykernel)",
   "language": "python",
   "name": "python3"
  },
  "language_info": {
   "codemirror_mode": {
    "name": "ipython",
    "version": 3
   },
   "file_extension": ".py",
   "mimetype": "text/x-python",
   "name": "python",
   "nbconvert_exporter": "python",
   "pygments_lexer": "ipython3",
   "version": "3.11.0"
  }
 },
 "nbformat": 4,
 "nbformat_minor": 5
}
