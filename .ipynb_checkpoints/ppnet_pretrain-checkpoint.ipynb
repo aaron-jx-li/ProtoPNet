{
 "cells": [
  {
   "cell_type": "code",
   "execution_count": 6,
   "id": "313c804d-a1d0-4ba1-b2dc-6eca2e5b3e82",
   "metadata": {
    "tags": []
   },
   "outputs": [],
   "source": [
    "import os\n",
    "import shutil\n",
    "from collections import Counter\n",
    "import numpy as np\n",
    "import torch\n",
    "import torch.utils.data\n",
    "import pandas as pd\n",
    "import argparse\n",
    "import re\n",
    "from helpers import makedir\n",
    "import model\n",
    "import save\n",
    "from log import create_logger\n",
    "import train_and_test as tnt\n",
    "from helpers import makedir\n",
    "import find_nearest\n",
    "import torchvision.transforms as transforms\n",
    "import torchvision.datasets as datasets\n",
    "import push\n",
    "\n",
    "from preprocess import mean, std, preprocess_input_function\n",
    "from settings import train_dir, test_dir, train_push_dir\n",
    "from settings import img_size, num_classes, prototype_activation_function, add_on_layers_type\n",
    "\n",
    "from bounding_box_metrics import bounding_box_overlap\n",
    "from find_nearest import find_k_nearest_patches_to_prototypes\n",
    "from settings import coefs\n",
    "\n"
   ]
  },
  {
   "cell_type": "code",
   "execution_count": 2,
   "id": "d7a9163e-50d4-42ff-8bd5-87a96e956910",
   "metadata": {
    "tags": []
   },
   "outputs": [],
   "source": [
    "'''\n",
    "Model initialization for vgg base; do not run this block when creating other models \n",
    "'''\n",
    "\n",
    "base_architecture = 'vgg19'\n",
    "prototype_shape = (2000, 128, 1, 1)\n",
    "\n",
    "ppnet = model.construct_PPNet(base_architecture=base_architecture,\n",
    "                              pretrained=True, img_size=img_size,\n",
    "                              prototype_shape=prototype_shape,\n",
    "                              num_classes=num_classes,\n",
    "                              prototype_activation_function=prototype_activation_function,\n",
    "                              add_on_layers_type=add_on_layers_type)\n",
    "\n",
    "ppnet = ppnet.cuda()\n",
    "ppnet_multi = torch.nn.DataParallel(ppnet)\n",
    "ppnet_multi = torch.nn.DataParallel(ppnet).cuda()\n",
    "class_specific = True\n",
    "\n",
    "warm_optimizer_lrs = {'add_on_layers': 1e-3,\n",
    "                      'prototype_vectors': 1e-3}\n",
    "warm_optimizer_specs = \\\n",
    "    [{'params': ppnet.add_on_layers.parameters(), 'lr': warm_optimizer_lrs['add_on_layers'], 'weight_decay': 1e-3},\n",
    "     {'params': ppnet.prototype_vectors, 'lr': warm_optimizer_lrs['prototype_vectors']},\n",
    "    ]\n",
    "warm_optimizer = torch.optim.Adam(warm_optimizer_specs)\n",
    "\n",
    "joint_optimizer_lrs = {'features': 1e-4,\n",
    "                       'add_on_layers': 1e-3,\n",
    "                       'prototype_vectors': 1e-3}\n",
    "joint_optimizer_specs = \\\n",
    "[{'params': ppnet_multi.module.features.parameters(), 'lr': joint_optimizer_lrs['features'], 'weight_decay': 1e-3}, # bias are now also being regularized\n",
    " {'params': ppnet_multi.module.add_on_layers.parameters(), 'lr': joint_optimizer_lrs['add_on_layers'], 'weight_decay': 1e-3},\n",
    " {'params': ppnet_multi.module.prototype_vectors, 'lr': joint_optimizer_lrs['prototype_vectors']},\n",
    "]\n",
    "joint_optimizer = torch.optim.Adam(joint_optimizer_specs)\n",
    "\n",
    "joint_lr_step_size = 5\n",
    "gamma = 0.5\n",
    "joint_lr_scheduler = torch.optim.lr_scheduler.StepLR(joint_optimizer, step_size=joint_lr_step_size, gamma=0.5)\n",
    "\n",
    "last_layer_optimizer_lr = 1e-4\n",
    "last_layer_optimizer_specs = [{'params': ppnet.last_layer.parameters(), 'lr': last_layer_optimizer_lr}]\n",
    "last_layer_optimizer = torch.optim.Adam(last_layer_optimizer_specs)\n",
    "\n",
    "train_batch_size, test_batch_size, train_push_batch_size = 128, 128, 128\n",
    "push_epochs = [20, 40, 60, 99]\n",
    "push_saved_epochs = [20, 40, 60, 99]\n",
    "\n",
    "model_dir = './ppnet_results/007_vgg19/'\n",
    "makedir(model_dir)\n",
    "log, logclose = create_logger(log_filename=os.path.join(model_dir, 'train.log'))"
   ]
  },
  {
   "cell_type": "code",
   "execution_count": 17,
   "id": "19960ba1-396d-4a93-8a73-00f3e2a30091",
   "metadata": {
    "tags": []
   },
   "outputs": [],
   "source": [
    "'''\n",
    "Model initialization for resnet base; do not run this block when creating other models \n",
    "'''\n",
    "\n",
    "base_architecture = 'resnet34'\n",
    "prototype_shape = (2000, 256, 1, 1)\n",
    "\n",
    "ppnet = model.construct_PPNet(base_architecture=base_architecture,\n",
    "                              pretrained=True, img_size=img_size,\n",
    "                              prototype_shape=prototype_shape,\n",
    "                              num_classes=num_classes,\n",
    "                              prototype_activation_function=prototype_activation_function,\n",
    "                              add_on_layers_type=add_on_layers_type)\n",
    "\n",
    "ppnet = ppnet.cuda()\n",
    "ppnet_multi = torch.nn.DataParallel(ppnet)\n",
    "ppnet_multi = torch.nn.DataParallel(ppnet).cuda()\n",
    "class_specific = True\n",
    "\n",
    "warm_optimizer_lrs = {'add_on_layers': 1e-3,\n",
    "                      'prototype_vectors': 1e-3}\n",
    "warm_optimizer_specs = \\\n",
    "    [{'params': ppnet.add_on_layers.parameters(), 'lr': warm_optimizer_lrs['add_on_layers'], 'weight_decay': 1e-3},\n",
    "     {'params': ppnet.prototype_vectors, 'lr': warm_optimizer_lrs['prototype_vectors']},\n",
    "    ]\n",
    "warm_optimizer = torch.optim.Adam(warm_optimizer_specs)\n",
    "\n",
    "joint_optimizer_lrs = {'features': 1e-4,\n",
    "                       'add_on_layers': 1e-3,\n",
    "                       'prototype_vectors': 1e-3}\n",
    "joint_optimizer_specs = \\\n",
    "[{'params': ppnet_multi.module.features.parameters(), 'lr': joint_optimizer_lrs['features'], 'weight_decay': 1e-3}, # bias are now also being regularized\n",
    " {'params': ppnet_multi.module.add_on_layers.parameters(), 'lr': joint_optimizer_lrs['add_on_layers'], 'weight_decay': 1e-3},\n",
    " {'params': ppnet_multi.module.prototype_vectors, 'lr': joint_optimizer_lrs['prototype_vectors']},\n",
    "]\n",
    "joint_optimizer = torch.optim.Adam(joint_optimizer_specs)\n",
    "\n",
    "joint_lr_step_size = 5\n",
    "gamma = 0.5\n",
    "joint_lr_scheduler = torch.optim.lr_scheduler.StepLR(joint_optimizer, step_size=joint_lr_step_size, gamma=0.5)\n",
    "\n",
    "last_layer_optimizer_lr = 1e-4\n",
    "last_layer_optimizer_specs = [{'params': ppnet.last_layer.parameters(), 'lr': last_layer_optimizer_lr}]\n",
    "last_layer_optimizer = torch.optim.Adam(last_layer_optimizer_specs)\n",
    "\n",
    "train_batch_size, test_batch_size, train_push_batch_size = 128, 128, 128\n",
    "push_epochs = [20, 40, 60, 99]\n",
    "push_saved_epochs = [20, 40, 60, 99]\n",
    "\n",
    "model_dir = './ppnet_results/005_resnet34/'\n",
    "makedir(model_dir)\n",
    "log, logclose = create_logger(log_filename=os.path.join(model_dir, 'train.log'))\n"
   ]
  },
  {
   "cell_type": "code",
   "execution_count": 11,
   "id": "6678d1a2-3ec0-4cca-b8ef-4cb2ddeb4e57",
   "metadata": {
    "tags": []
   },
   "outputs": [],
   "source": [
    "'''\n",
    "Model initialization for densenet; do not run this block when creating other models \n",
    "'''\n",
    "\n",
    "base_architecture = 'densenet121'\n",
    "prototype_shape = (2000, 128, 1, 1)\n",
    "\n",
    "ppnet = model.construct_PPNet(base_architecture=base_architecture,\n",
    "                              pretrained=True, img_size=img_size,\n",
    "                              prototype_shape=prototype_shape,\n",
    "                              num_classes=num_classes,\n",
    "                              prototype_activation_function=prototype_activation_function,\n",
    "                              add_on_layers_type=add_on_layers_type)\n",
    "\n",
    "ppnet = ppnet.cuda()\n",
    "ppnet_multi = torch.nn.DataParallel(ppnet)\n",
    "ppnet_multi = torch.nn.DataParallel(ppnet).cuda()\n",
    "class_specific = True\n",
    "\n",
    "warm_optimizer_lrs = {'add_on_layers': 1e-3,\n",
    "                      'prototype_vectors': 1e-3}\n",
    "warm_optimizer_specs = \\\n",
    "    [{'params': ppnet.add_on_layers.parameters(), 'lr': warm_optimizer_lrs['add_on_layers'], 'weight_decay': 1e-3},\n",
    "     {'params': ppnet.prototype_vectors, 'lr': warm_optimizer_lrs['prototype_vectors']},\n",
    "    ]\n",
    "warm_optimizer = torch.optim.Adam(warm_optimizer_specs)\n",
    "\n",
    "joint_optimizer_lrs = {'features': 1e-4,\n",
    "                       'add_on_layers': 1e-3,\n",
    "                       'prototype_vectors': 1e-3}\n",
    "joint_optimizer_specs = \\\n",
    "[{'params': ppnet_multi.module.features.parameters(), 'lr': joint_optimizer_lrs['features'], 'weight_decay': 1e-3}, # bias are now also being regularized\n",
    " {'params': ppnet_multi.module.add_on_layers.parameters(), 'lr': joint_optimizer_lrs['add_on_layers'], 'weight_decay': 1e-3},\n",
    " {'params': ppnet_multi.module.prototype_vectors, 'lr': joint_optimizer_lrs['prototype_vectors']},\n",
    "]\n",
    "joint_optimizer = torch.optim.Adam(joint_optimizer_specs)\n",
    "\n",
    "joint_lr_step_size = 5\n",
    "gamma = 0.5\n",
    "joint_lr_scheduler = torch.optim.lr_scheduler.StepLR(joint_optimizer, step_size=joint_lr_step_size, gamma=0.5)\n",
    "\n",
    "last_layer_optimizer_lr = 1e-4\n",
    "last_layer_optimizer_specs = [{'params': ppnet.last_layer.parameters(), 'lr': last_layer_optimizer_lr}]\n",
    "last_layer_optimizer = torch.optim.Adam(last_layer_optimizer_specs)\n",
    "\n",
    "train_batch_size, test_batch_size, train_push_batch_size = 128, 128, 128\n",
    "push_epochs = [20, 40, 60, 99]\n",
    "push_saved_epochs = [20, 40, 60, 99]\n",
    "\n",
    "model_dir = './ppnet_results/006_densenet121/'\n",
    "makedir(model_dir)\n",
    "log, logclose = create_logger(log_filename=os.path.join(model_dir, 'train.log'))\n"
   ]
  },
  {
   "cell_type": "code",
   "execution_count": 3,
   "id": "f361666b-b47f-4876-a34b-0578a40b09f3",
   "metadata": {
    "tags": []
   },
   "outputs": [],
   "source": [
    "normalize = transforms.Normalize(mean=mean,\n",
    "                                 std=std)\n",
    "train_dataset = datasets.ImageFolder(\n",
    "        train_dir,\n",
    "        transforms.Compose([\n",
    "        transforms.Resize(size=(img_size, img_size)),\n",
    "        transforms.ToTensor(),\n",
    "        normalize,\n",
    "]))\n",
    "\n",
    "train_loader = torch.utils.data.DataLoader(\n",
    "    train_dataset, batch_size=train_batch_size, shuffle=True,\n",
    "    num_workers=2, pin_memory=False)\n",
    "\n",
    "# push set\n",
    "train_push_dataset = datasets.ImageFolder(\n",
    "    train_push_dir,\n",
    "    transforms.Compose([\n",
    "        transforms.Resize(size=(img_size, img_size)),\n",
    "        transforms.ToTensor(),\n",
    "]))\n",
    "\n",
    "train_push_loader = torch.utils.data.DataLoader(\n",
    "    train_push_dataset, batch_size=train_push_batch_size, shuffle=False,\n",
    "    num_workers=2, pin_memory=False)\n",
    "\n",
    "# test set\n",
    "test_dataset = datasets.ImageFolder(\n",
    "    test_dir,\n",
    "    transforms.Compose([\n",
    "        transforms.Resize(size=(img_size, img_size)),\n",
    "        transforms.ToTensor(),\n",
    "        normalize,\n",
    "]))\n",
    "\n",
    "test_loader = torch.utils.data.DataLoader(\n",
    "    test_dataset, batch_size=test_batch_size, shuffle=False,\n",
    "    num_workers=2, pin_memory=False)"
   ]
  },
  {
   "cell_type": "code",
   "execution_count": null,
   "id": "d04c0e28-7a9c-4a7e-9289-97fb5629a698",
   "metadata": {
    "tags": []
   },
   "outputs": [
    {
     "name": "stdout",
     "output_type": "stream",
     "text": [
      "epoch: \t20\n",
      "\tjoint\n",
      "\ttrain\n"
     ]
    },
    {
     "name": "stderr",
     "output_type": "stream",
     "text": [
      "1405it [12:10,  1.92it/s]\n"
     ]
    },
    {
     "name": "stdout",
     "output_type": "stream",
     "text": [
      "\ttime: \t731.0269372463226\n",
      "\tcross ent: \t0.01065046897030529\n",
      "\tcluster: \t0.007841696317417024\n",
      "\tseparation:\t0.028849512831808408\n",
      "\tavg separation:\t2.6800737301225763\n",
      "\taccu: \t\t99.77699922144366%\n",
      "\tl1: \t\t201000.0\n",
      "\tp dist pair: \t5.810579776763916\n",
      "\tpush\n",
      "\tExecuting push ...\n",
      "\tpush time: \t37.34978795051575\n",
      "\ttest\n"
     ]
    },
    {
     "name": "stderr",
     "output_type": "stream",
     "text": [
      "46it [00:17,  2.60it/s]\n"
     ]
    },
    {
     "name": "stdout",
     "output_type": "stream",
     "text": [
      "\ttime: \t17.887080192565918\n",
      "\tcross ent: \t2.5526346927103787\n",
      "\tcluster: \t0.022421653615310788\n",
      "\tseparation:\t0.015334570193258316\n",
      "\tavg separation:\t0.4866242739169494\n",
      "\taccu: \t\t61.9951674145668%\n",
      "\tl1: \t\t201000.0\n",
      "\tp dist pair: \t1.227476716041565\n",
      "\tlast layer\n",
      "iteration: \t0\n",
      "\ttrain\n"
     ]
    },
    {
     "name": "stderr",
     "output_type": "stream",
     "text": [
      "1405it [08:31,  2.75it/s]\n"
     ]
    },
    {
     "name": "stdout",
     "output_type": "stream",
     "text": [
      "\ttime: \t511.83247327804565\n",
      "\tcross ent: \t0.014254061758080729\n",
      "\tcluster: \t0.0056659161706464995\n",
      "\tseparation:\t0.016999168599892766\n",
      "\tavg separation:\t0.4899969080801112\n",
      "\taccu: \t\t99.63574685796908%\n",
      "\tl1: \t\t190433.546875\n",
      "\tp dist pair: \t1.227476716041565\n",
      "\ttest\n"
     ]
    },
    {
     "name": "stderr",
     "output_type": "stream",
     "text": [
      "46it [00:17,  2.61it/s]\n"
     ]
    },
    {
     "name": "stdout",
     "output_type": "stream",
     "text": [
      "\ttime: \t17.80571150779724\n",
      "\tcross ent: \t1.6779367535010627\n",
      "\tcluster: \t0.022421653615310788\n",
      "\tseparation:\t0.015334570193258316\n",
      "\tavg separation:\t0.4866242739169494\n",
      "\taccu: \t\t70.46945115636866%\n",
      "\tl1: \t\t190433.546875\n",
      "\tp dist pair: \t1.227476716041565\n",
      "Test accuracy:  0.7046945115636866\n",
      "iteration: \t1\n",
      "\ttrain\n"
     ]
    },
    {
     "name": "stderr",
     "output_type": "stream",
     "text": [
      "1405it [08:32,  2.74it/s]\n"
     ]
    },
    {
     "name": "stdout",
     "output_type": "stream",
     "text": [
      "\ttime: \t512.2095513343811\n",
      "\tcross ent: \t0.01312662246529331\n",
      "\tcluster: \t0.005665772756581523\n",
      "\tseparation:\t0.01699928095120128\n",
      "\tavg separation:\t0.48999571882957244\n",
      "\taccu: \t\t99.72138805472139%\n",
      "\tl1: \t\t178743.828125\n",
      "\tp dist pair: \t1.227476716041565\n",
      "\ttest\n"
     ]
    },
    {
     "name": "stderr",
     "output_type": "stream",
     "text": [
      "46it [00:17,  2.56it/s]\n"
     ]
    },
    {
     "name": "stdout",
     "output_type": "stream",
     "text": [
      "\ttime: \t18.25442099571228\n",
      "\tcross ent: \t1.69286937687708\n",
      "\tcluster: \t0.022421653615310788\n",
      "\tseparation:\t0.015334570193258316\n",
      "\tavg separation:\t0.4866242739169494\n",
      "\taccu: \t\t69.69278564031757%\n",
      "\tl1: \t\t178743.828125\n",
      "\tp dist pair: \t1.227476716041565\n",
      "Test accuracy:  0.6969278564031757\n",
      "iteration: \t2\n",
      "\ttrain\n"
     ]
    },
    {
     "name": "stderr",
     "output_type": "stream",
     "text": [
      "1405it [09:10,  2.55it/s]\n"
     ]
    },
    {
     "name": "stdout",
     "output_type": "stream",
     "text": [
      "\ttime: \t550.7097837924957\n",
      "\tcross ent: \t0.014655202777734775\n",
      "\tcluster: \t0.00566584013097545\n",
      "\tseparation:\t0.016999275828595686\n",
      "\tavg separation:\t0.4899966882429089\n",
      "\taccu: \t\t99.73417862306752%\n",
      "\tl1: \t\t167131.71875\n",
      "\tp dist pair: \t1.227476716041565\n",
      "\ttest\n"
     ]
    },
    {
     "name": "stderr",
     "output_type": "stream",
     "text": [
      "46it [00:19,  2.42it/s]\n"
     ]
    },
    {
     "name": "stdout",
     "output_type": "stream",
     "text": [
      "\ttime: \t19.385153770446777\n",
      "\tcross ent: \t1.6867472192515498\n",
      "\tcluster: \t0.022421653615310788\n",
      "\tseparation:\t0.015334570193258316\n",
      "\tavg separation:\t0.4866242739169494\n",
      "\taccu: \t\t69.72730410769762%\n",
      "\tl1: \t\t167131.71875\n",
      "\tp dist pair: \t1.227476716041565\n",
      "Test accuracy:  0.6972730410769762\n",
      "iteration: \t3\n",
      "\ttrain\n"
     ]
    },
    {
     "name": "stderr",
     "output_type": "stream",
     "text": [
      "1405it [09:13,  2.54it/s]\n"
     ]
    },
    {
     "name": "stdout",
     "output_type": "stream",
     "text": [
      "\ttime: \t553.6571452617645\n",
      "\tcross ent: \t0.017434012177615723\n",
      "\tcluster: \t0.005665822116677977\n",
      "\tseparation:\t0.016999104398955654\n",
      "\tavg separation:\t0.4899963152578293\n",
      "\taccu: \t\t99.71805138471805%\n",
      "\tl1: \t\t156200.765625\n",
      "\tp dist pair: \t1.227476716041565\n",
      "\ttest\n"
     ]
    },
    {
     "name": "stderr",
     "output_type": "stream",
     "text": [
      "46it [00:17,  2.63it/s]\n"
     ]
    },
    {
     "name": "stdout",
     "output_type": "stream",
     "text": [
      "\ttime: \t17.735252857208252\n",
      "\tcross ent: \t1.722397911807765\n",
      "\tcluster: \t0.022421653615310788\n",
      "\tseparation:\t0.015334570193258316\n",
      "\tavg separation:\t0.4866242739169494\n",
      "\taccu: \t\t68.89886089057646%\n",
      "\tl1: \t\t156200.765625\n",
      "\tp dist pair: \t1.227476716041565\n",
      "Test accuracy:  0.6889886089057646\n",
      "iteration: \t4\n",
      "\ttrain\n"
     ]
    },
    {
     "name": "stderr",
     "output_type": "stream",
     "text": [
      "1405it [09:25,  2.49it/s]\n"
     ]
    },
    {
     "name": "stdout",
     "output_type": "stream",
     "text": [
      "\ttime: \t565.5263206958771\n",
      "\tcross ent: \t0.020450494058837854\n",
      "\tcluster: \t0.005665848427037858\n",
      "\tseparation:\t0.016999189953362814\n",
      "\tavg separation:\t0.4899963175911072\n",
      "\taccu: \t\t99.71082193304416%\n",
      "\tl1: \t\t146103.5\n",
      "\tp dist pair: \t1.227476716041565\n",
      "\ttest\n"
     ]
    },
    {
     "name": "stderr",
     "output_type": "stream",
     "text": [
      "46it [00:18,  2.54it/s]\n"
     ]
    },
    {
     "name": "stdout",
     "output_type": "stream",
     "text": [
      "\ttime: \t18.374956130981445\n",
      "\tcross ent: \t1.761491931003073\n",
      "\tcluster: \t0.022421653615310788\n",
      "\tseparation:\t0.015334570193258316\n",
      "\tavg separation:\t0.4866242739169494\n",
      "\taccu: \t\t68.74352778736625%\n",
      "\tl1: \t\t146103.5\n",
      "\tp dist pair: \t1.227476716041565\n",
      "Test accuracy:  0.6874352778736624\n",
      "iteration: \t5\n",
      "\ttrain\n"
     ]
    },
    {
     "name": "stderr",
     "output_type": "stream",
     "text": [
      "1405it [08:41,  2.69it/s]\n"
     ]
    },
    {
     "name": "stdout",
     "output_type": "stream",
     "text": [
      "\ttime: \t521.982168674469\n",
      "\tcross ent: \t0.02229824583485285\n",
      "\tcluster: \t0.005665862403173676\n",
      "\tseparation:\t0.016999166604675008\n",
      "\tavg separation:\t0.4899963261818122\n",
      "\taccu: \t\t99.6924702480258%\n",
      "\tl1: \t\t136789.71875\n",
      "\tp dist pair: \t1.227476716041565\n",
      "\ttest\n"
     ]
    },
    {
     "name": "stderr",
     "output_type": "stream",
     "text": [
      "46it [00:17,  2.64it/s]\n"
     ]
    },
    {
     "name": "stdout",
     "output_type": "stream",
     "text": [
      "\ttime: \t17.723021030426025\n",
      "\tcross ent: \t1.761248124682385\n",
      "\tcluster: \t0.022421653615310788\n",
      "\tseparation:\t0.015334570193258316\n",
      "\tavg separation:\t0.4866242739169494\n",
      "\taccu: \t\t68.58819468415602%\n",
      "\tl1: \t\t136789.71875\n",
      "\tp dist pair: \t1.227476716041565\n",
      "Test accuracy:  0.6858819468415602\n",
      "iteration: \t6\n",
      "\ttrain\n"
     ]
    },
    {
     "name": "stderr",
     "output_type": "stream",
     "text": [
      "1405it [09:00,  2.60it/s]\n"
     ]
    },
    {
     "name": "stdout",
     "output_type": "stream",
     "text": [
      "\ttime: \t540.605010509491\n",
      "\tcross ent: \t0.024016307264539908\n",
      "\tcluster: \t0.005665794321836314\n",
      "\tseparation:\t0.016999026333575147\n",
      "\tavg separation:\t0.48999664724085257\n",
      "\taccu: \t\t99.67856745634523%\n",
      "\tl1: \t\t128021.25\n",
      "\tp dist pair: \t1.227476716041565\n",
      "\ttest\n"
     ]
    },
    {
     "name": "stderr",
     "output_type": "stream",
     "text": [
      "46it [00:17,  2.65it/s]\n"
     ]
    },
    {
     "name": "stdout",
     "output_type": "stream",
     "text": [
      "\ttime: \t17.61374855041504\n",
      "\tcross ent: \t1.7647510067276333\n",
      "\tcluster: \t0.022421653615310788\n",
      "\tseparation:\t0.015334570193258316\n",
      "\tavg separation:\t0.4866242739169494\n",
      "\taccu: \t\t67.91508457024507%\n",
      "\tl1: \t\t128021.25\n",
      "\tp dist pair: \t1.227476716041565\n",
      "Test accuracy:  0.6791508457024508\n",
      "iteration: \t7\n",
      "\ttrain\n"
     ]
    },
    {
     "name": "stderr",
     "output_type": "stream",
     "text": [
      "1405it [08:40,  2.70it/s]\n"
     ]
    },
    {
     "name": "stdout",
     "output_type": "stream",
     "text": [
      "\ttime: \t520.4415755271912\n",
      "\tcross ent: \t0.024629724375718004\n",
      "\tcluster: \t0.005665851899445905\n",
      "\tseparation:\t0.016999194721999542\n",
      "\tavg separation:\t0.48999574977732213\n",
      "\taccu: \t\t99.70136803470136%\n",
      "\tl1: \t\t119617.9453125\n",
      "\tp dist pair: \t1.227476716041565\n",
      "\ttest\n"
     ]
    },
    {
     "name": "stderr",
     "output_type": "stream",
     "text": [
      "46it [00:17,  2.60it/s]\n"
     ]
    },
    {
     "name": "stdout",
     "output_type": "stream",
     "text": [
      "\ttime: \t17.907306432724\n",
      "\tcross ent: \t1.7587055836034857\n",
      "\tcluster: \t0.022421653615310788\n",
      "\tseparation:\t0.015334570193258316\n",
      "\tavg separation:\t0.4866242739169494\n",
      "\taccu: \t\t67.69071453227477%\n",
      "\tl1: \t\t119617.9453125\n",
      "\tp dist pair: \t1.227476716041565\n",
      "Test accuracy:  0.6769071453227476\n",
      "\tabove 60.00%\n",
      "\ttest\n"
     ]
    },
    {
     "name": "stderr",
     "output_type": "stream",
     "text": [
      "46it [00:18,  2.49it/s]\n"
     ]
    },
    {
     "name": "stdout",
     "output_type": "stream",
     "text": [
      "\ttime: \t18.63805603981018\n",
      "\tcross ent: \t1.7587055836034857\n",
      "\tcluster: \t0.022421653615310788\n",
      "\tseparation:\t0.015334570193258316\n",
      "\tavg separation:\t0.4866242739169494\n",
      "\taccu: \t\t67.69071453227477%\n",
      "\tl1: \t\t119617.9453125\n",
      "\tp dist pair: \t1.227476716041565\n",
      "Test accuracy:  0.6769071453227476\n",
      "epoch: \t21\n",
      "\tjoint\n",
      "\ttrain\n"
     ]
    },
    {
     "name": "stderr",
     "output_type": "stream",
     "text": [
      "1405it [12:40,  1.85it/s]\n"
     ]
    },
    {
     "name": "stdout",
     "output_type": "stream",
     "text": [
      "\ttime: \t760.7598741054535\n",
      "\tcross ent: \t0.020514712565714407\n",
      "\tcluster: \t0.007363760205535914\n",
      "\tseparation:\t0.02196989439799056\n",
      "\tavg separation:\t0.5143205379039791\n",
      "\taccu: \t\t99.6385274163052%\n",
      "\tl1: \t\t119617.9453125\n",
      "\tp dist pair: \t1.2727779150009155\n",
      "\ttest\n"
     ]
    },
    {
     "name": "stderr",
     "output_type": "stream",
     "text": [
      "46it [00:16,  2.71it/s]\n"
     ]
    },
    {
     "name": "stdout",
     "output_type": "stream",
     "text": [
      "\ttime: \t17.252188444137573\n",
      "\tcross ent: \t1.5993035992850428\n",
      "\tcluster: \t0.02432983724967293\n",
      "\tseparation:\t0.02003438151239053\n",
      "\tavg separation:\t0.5151119575552319\n",
      "\taccu: \t\t70.38315498791854%\n",
      "\tl1: \t\t119617.9453125\n",
      "\tp dist pair: \t1.2727779150009155\n",
      "Test accuracy:  0.7038315498791854\n",
      "epoch: \t22\n",
      "\tjoint\n",
      "\ttrain\n"
     ]
    },
    {
     "name": "stderr",
     "output_type": "stream",
     "text": [
      "1405it [12:49,  1.83it/s]\n"
     ]
    },
    {
     "name": "stdout",
     "output_type": "stream",
     "text": [
      "\ttime: \t769.386013507843\n",
      "\tcross ent: \t0.012061042207839245\n",
      "\tcluster: \t0.006724150413216433\n",
      "\tseparation:\t0.022818939330792088\n",
      "\tavg separation:\t0.514905491672801\n",
      "\taccu: \t\t99.79757535313091%\n",
      "\tl1: \t\t119617.9453125\n",
      "\tp dist pair: \t1.2713173627853394\n",
      "\ttest\n"
     ]
    },
    {
     "name": "stderr",
     "output_type": "stream",
     "text": [
      "46it [00:17,  2.66it/s]\n"
     ]
    },
    {
     "name": "stdout",
     "output_type": "stream",
     "text": [
      "\ttime: \t17.50869607925415\n",
      "\tcross ent: \t1.541394910086756\n",
      "\tcluster: \t0.024243998644954485\n",
      "\tseparation:\t0.021119763629268044\n",
      "\tavg separation:\t0.509473873221356\n",
      "\taccu: \t\t70.19330341732827%\n",
      "\tl1: \t\t119617.9453125\n",
      "\tp dist pair: \t1.2713173627853394\n",
      "Test accuracy:  0.7019330341732827\n",
      "epoch: \t23\n",
      "\tjoint\n",
      "\ttrain\n"
     ]
    },
    {
     "name": "stderr",
     "output_type": "stream",
     "text": [
      "1405it [12:53,  1.82it/s]\n"
     ]
    },
    {
     "name": "stdout",
     "output_type": "stream",
     "text": [
      "\ttime: \t773.5918669700623\n",
      "\tcross ent: \t0.010428066860330938\n",
      "\tcluster: \t0.006468707886507927\n",
      "\tseparation:\t0.023036045847573315\n",
      "\tavg separation:\t0.5153071215568488\n",
      "\taccu: \t\t99.81147814481149%\n",
      "\tl1: \t\t119617.9453125\n",
      "\tp dist pair: \t1.269964337348938\n",
      "\ttest\n"
     ]
    },
    {
     "name": "stderr",
     "output_type": "stream",
     "text": [
      "46it [00:16,  2.77it/s]\n"
     ]
    },
    {
     "name": "stdout",
     "output_type": "stream",
     "text": [
      "\ttime: \t16.86357617378235\n",
      "\tcross ent: \t1.592056541339211\n",
      "\tcluster: \t0.023552046704065542\n",
      "\tseparation:\t0.020023153406446396\n",
      "\tavg separation:\t0.5171437367149021\n",
      "\taccu: \t\t69.91715567828788%\n",
      "\tl1: \t\t119617.9453125\n",
      "\tp dist pair: \t1.269964337348938\n",
      "Test accuracy:  0.6991715567828788\n",
      "epoch: \t24\n",
      "\tjoint\n",
      "\ttrain\n"
     ]
    },
    {
     "name": "stderr",
     "output_type": "stream",
     "text": [
      "1405it [12:51,  1.82it/s]\n"
     ]
    },
    {
     "name": "stdout",
     "output_type": "stream",
     "text": [
      "\ttime: \t771.9182658195496\n",
      "\tcross ent: \t0.0030058866722825783\n",
      "\tcluster: \t0.005213481776111385\n",
      "\tseparation:\t0.023288502286973798\n",
      "\tavg separation:\t0.5145283875092068\n",
      "\taccu: \t\t99.96274051829607%\n",
      "\tl1: \t\t119617.9453125\n",
      "\tp dist pair: \t1.266046166419983\n",
      "\ttest\n"
     ]
    },
    {
     "name": "stderr",
     "output_type": "stream",
     "text": [
      "46it [00:18,  2.44it/s]\n"
     ]
    },
    {
     "name": "stdout",
     "output_type": "stream",
     "text": [
      "\ttime: \t19.081137895584106\n",
      "\tcross ent: \t1.4726302831069282\n",
      "\tcluster: \t0.021235314248453662\n",
      "\tseparation:\t0.019841372035443783\n",
      "\tavg separation:\t0.5106389490158662\n",
      "\taccu: \t\t71.74663444943045%\n",
      "\tl1: \t\t119617.9453125\n",
      "\tp dist pair: \t1.266046166419983\n",
      "Test accuracy:  0.7174663444943045\n",
      "epoch: \t25\n",
      "\tjoint\n",
      "\ttrain\n"
     ]
    },
    {
     "name": "stderr",
     "output_type": "stream",
     "text": [
      "1405it [12:57,  1.81it/s]\n"
     ]
    },
    {
     "name": "stdout",
     "output_type": "stream",
     "text": [
      "\ttime: \t777.4048755168915\n",
      "\tcross ent: \t0.0024745123485073006\n",
      "\tcluster: \t0.004558156453258627\n",
      "\tseparation:\t0.02394903534194753\n",
      "\tavg separation:\t0.5131698849786643\n",
      "\taccu: \t\t99.96996996996998%\n",
      "\tl1: \t\t119617.9453125\n",
      "\tp dist pair: \t1.2623423337936401\n",
      "\ttest\n"
     ]
    },
    {
     "name": "stderr",
     "output_type": "stream",
     "text": [
      "46it [00:19,  2.40it/s]\n"
     ]
    },
    {
     "name": "stdout",
     "output_type": "stream",
     "text": [
      "\ttime: \t19.309679746627808\n",
      "\tcross ent: \t1.5028188785781031\n",
      "\tcluster: \t0.021781712082093178\n",
      "\tseparation:\t0.02038401984812125\n",
      "\tavg separation:\t0.5092129189035167\n",
      "\taccu: \t\t71.33241284086986%\n",
      "\tl1: \t\t119617.9453125\n",
      "\tp dist pair: \t1.2623423337936401\n",
      "Test accuracy:  0.7133241284086986\n",
      "epoch: \t26\n",
      "\tjoint\n",
      "\ttrain\n"
     ]
    },
    {
     "name": "stderr",
     "output_type": "stream",
     "text": [
      "1405it [12:56,  1.81it/s]\n"
     ]
    },
    {
     "name": "stdout",
     "output_type": "stream",
     "text": [
      "\ttime: \t776.9197595119476\n",
      "\tcross ent: \t0.004710202839692021\n",
      "\tcluster: \t0.00502723846054268\n",
      "\tseparation:\t0.023896078111809344\n",
      "\tavg separation:\t0.511698853418072\n",
      "\taccu: \t\t99.93382271160048%\n",
      "\tl1: \t\t119617.9453125\n",
      "\tp dist pair: \t1.25922691822052\n",
      "\ttest\n"
     ]
    },
    {
     "name": "stderr",
     "output_type": "stream",
     "text": [
      "46it [00:18,  2.46it/s]\n"
     ]
    },
    {
     "name": "stdout",
     "output_type": "stream",
     "text": [
      "\ttime: \t18.941793203353882\n",
      "\tcross ent: \t1.5337617682374043\n",
      "\tcluster: \t0.02245438495731872\n",
      "\tseparation:\t0.02059364691376686\n",
      "\tavg separation:\t0.5097284848275392\n",
      "\taccu: \t\t70.34863652053849%\n",
      "\tl1: \t\t119617.9453125\n",
      "\tp dist pair: \t1.25922691822052\n",
      "Test accuracy:  0.7034863652053849\n",
      "epoch: \t27\n",
      "\tjoint\n",
      "\ttrain\n"
     ]
    },
    {
     "name": "stderr",
     "output_type": "stream",
     "text": [
      "1405it [12:57,  1.81it/s]\n"
     ]
    },
    {
     "name": "stdout",
     "output_type": "stream",
     "text": [
      "\ttime: \t777.8798303604126\n",
      "\tcross ent: \t0.005228199890741807\n",
      "\tcluster: \t0.0048925696776059594\n",
      "\tseparation:\t0.023805537521573997\n",
      "\tavg separation:\t0.5104322350534256\n",
      "\taccu: \t\t99.91825158491825%\n",
      "\tl1: \t\t119617.9453125\n",
      "\tp dist pair: \t1.258913516998291\n",
      "\ttest\n"
     ]
    },
    {
     "name": "stderr",
     "output_type": "stream",
     "text": [
      "46it [00:17,  2.68it/s]\n"
     ]
    },
    {
     "name": "stdout",
     "output_type": "stream",
     "text": [
      "\ttime: \t17.29952645301819\n",
      "\tcross ent: \t1.5018197272134863\n",
      "\tcluster: \t0.021338048269567284\n",
      "\tseparation:\t0.02035822885353928\n",
      "\tavg separation:\t0.5096861674733784\n",
      "\taccu: \t\t70.7801173627891%\n",
      "\tl1: \t\t119617.9453125\n",
      "\tp dist pair: \t1.258913516998291\n",
      "Test accuracy:  0.707801173627891\n",
      "epoch: \t28\n",
      "\tjoint\n",
      "\ttrain\n"
     ]
    },
    {
     "name": "stderr",
     "output_type": "stream",
     "text": [
      "1405it [12:56,  1.81it/s]\n"
     ]
    },
    {
     "name": "stdout",
     "output_type": "stream",
     "text": [
      "\ttime: \t777.1735219955444\n",
      "\tcross ent: \t0.005728962366532177\n",
      "\tcluster: \t0.005215982739147448\n",
      "\tseparation:\t0.023774554490300685\n",
      "\tavg separation:\t0.5098204904179556\n",
      "\taccu: \t\t99.90824157490825%\n",
      "\tl1: \t\t119617.9453125\n",
      "\tp dist pair: \t1.254766583442688\n",
      "\ttest\n"
     ]
    },
    {
     "name": "stderr",
     "output_type": "stream",
     "text": [
      "46it [00:17,  2.70it/s]\n"
     ]
    },
    {
     "name": "stdout",
     "output_type": "stream",
     "text": [
      "\ttime: \t17.336747646331787\n",
      "\tcross ent: \t1.4870114274646924\n",
      "\tcluster: \t0.020855757660920852\n",
      "\tseparation:\t0.020043581643182297\n",
      "\tavg separation:\t0.5054347158774085\n",
      "\taccu: \t\t71.26337590610977%\n",
      "\tl1: \t\t119617.9453125\n",
      "\tp dist pair: \t1.254766583442688\n",
      "Test accuracy:  0.7126337590610977\n",
      "epoch: \t29\n",
      "\tjoint\n",
      "\ttrain\n"
     ]
    },
    {
     "name": "stderr",
     "output_type": "stream",
     "text": [
      "814it [07:27,  1.88it/s]"
     ]
    }
   ],
   "source": [
    "for epoch in range(20, 100):\n",
    "    print('epoch: \\t{0}'.format(epoch))\n",
    "\n",
    "    #if epoch in range(0, 10):\n",
    "    #    tnt.joint_warm(model=ppnet_multi, log=log)\n",
    "    #else:\n",
    "    \n",
    "    if epoch in range(0, 5):\n",
    "        tnt.warm_only(model=ppnet_multi, log=log)\n",
    "        _ = tnt.train(model=ppnet_multi, dataloader=train_loader, optimizer=warm_optimizer,\n",
    "                  class_specific=class_specific, coefs=coefs, log=log)\n",
    "        \n",
    "    else:\n",
    "        tnt.joint(model=ppnet_multi, log=log)\n",
    "        _ = tnt.train(model=ppnet_multi, dataloader=train_loader, optimizer=joint_optimizer,\n",
    "                  class_specific=class_specific, coefs=coefs, log=log)\n",
    "        joint_lr_scheduler.step()\n",
    "\n",
    "#     accu = tnt.test(model=ppnet_multi, dataloader=test_loader,\n",
    "#                     class_specific=class_specific, log=log)\n",
    "#     save.save_model_w_condition(model=ppnet, model_dir=model_dir, model_name=str(epoch) + 'nopush', accu=accu,\n",
    "#                                 target_accu=0.70, log=log)\n",
    "\n",
    "    if epoch in push_epochs:\n",
    "        # Only save the model in in push_saved_epochs\n",
    "        if epoch in push_saved_epochs:\n",
    "            bounding_box_tracker = push.push_prototypes(\n",
    "                train_push_loader, # pytorch dataloader (must be unnormalized in [0,1])\n",
    "                prototype_network_parallel=ppnet_multi, # pytorch network with prototype_vectors\n",
    "                class_specific=class_specific,\n",
    "                preprocess_input_function=preprocess_input_function, # normalize if needed\n",
    "                prototype_layer_stride=1,\n",
    "                root_dir_for_saving_prototypes=None, # if not None, prototypes will be saved here\n",
    "                epoch_number=epoch, # if not provided, prototypes saved previously will be overwritten\n",
    "                prototype_img_filename_prefix=None,\n",
    "                prototype_self_act_filename_prefix=None,\n",
    "                proto_bound_boxes_filename_prefix=None,\n",
    "                save_prototype_class_identity=True,\n",
    "                log=log,\n",
    "                bounding_box_tracker=None)\n",
    "            accu = tnt.test(model=ppnet_multi, dataloader=test_loader,\n",
    "                            class_specific=class_specific, log=log)\n",
    "            save.save_model_w_condition(model=ppnet, model_dir=model_dir, model_name=str(epoch) + 'push', accu=accu,\n",
    "                                        target_accu=0.72, log=log)\n",
    "\n",
    "           \n",
    "\n",
    "        if prototype_activation_function != 'linear':\n",
    "            tnt.last_only(model=ppnet_multi, log=log)\n",
    "            # Fine tune the last layers\n",
    "            for i in range(8):\n",
    "                log('iteration: \\t{0}'.format(i))\n",
    "                _ = tnt.train(model=ppnet_multi, dataloader=train_loader, optimizer=last_layer_optimizer,\n",
    "                              class_specific=class_specific, coefs=coefs, log=log)\n",
    "                accu = tnt.test(model=ppnet_multi, dataloader=test_loader,\n",
    "                    class_specific=class_specific, log=log)\n",
    "                print(\"Test accuracy: \", accu)\n",
    "                save.save_model_w_condition(model=ppnet, model_dir=model_dir, model_name=str(epoch) + '_' + str(i) + 'push', accu=accu,\n",
    "                                target_accu=0.72, log=log)\n",
    "            \n",
    "            save.save_model_w_condition(model=ppnet, model_dir=model_dir, model_name=str(epoch) + '_' + str(i) + 'push', accu=accu,\n",
    "                                target_accu=0.60, log=log)\n",
    "            # Save the last with the final layer fine-tuned\n",
    "        \n",
    "    accu = tnt.test(model=ppnet_multi, dataloader=test_loader,\n",
    "                    class_specific=class_specific, log=log)\n",
    "    print(\"Test accuracy: \", accu)\n",
    "    save.save_model_w_condition(model=ppnet, model_dir=model_dir, model_name=str(epoch), accu=accu,\n",
    "                                target_accu=0.72, log=log)"
   ]
  },
  {
   "cell_type": "code",
   "execution_count": null,
   "id": "57cfcee4-9274-4efb-8cdf-995a4189de6a",
   "metadata": {},
   "outputs": [],
   "source": []
  }
 ],
 "metadata": {
  "kernelspec": {
   "display_name": "Python 3 (ipykernel)",
   "language": "python",
   "name": "python3"
  },
  "language_info": {
   "codemirror_mode": {
    "name": "ipython",
    "version": 3
   },
   "file_extension": ".py",
   "mimetype": "text/x-python",
   "name": "python",
   "nbconvert_exporter": "python",
   "pygments_lexer": "ipython3",
   "version": "3.11.0"
  }
 },
 "nbformat": 4,
 "nbformat_minor": 5
}
